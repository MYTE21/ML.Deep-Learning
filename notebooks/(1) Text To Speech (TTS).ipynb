{
  "nbformat": 4,
  "nbformat_minor": 0,
  "metadata": {
    "colab": {
      "provenance": [],
      "authorship_tag": "ABX9TyMvzcQQ4Fz7poXimkent6oY",
      "include_colab_link": true
    },
    "kernelspec": {
      "name": "python3",
      "display_name": "Python 3"
    },
    "language_info": {
      "name": "python"
    },
    "widgets": {
      "application/vnd.jupyter.widget-state+json": {
        "a039bd442dc74618aa18dd5743659c7c": {
          "model_module": "@jupyter-widgets/controls",
          "model_name": "HBoxModel",
          "model_module_version": "1.5.0",
          "state": {
            "_dom_classes": [],
            "_model_module": "@jupyter-widgets/controls",
            "_model_module_version": "1.5.0",
            "_model_name": "HBoxModel",
            "_view_count": null,
            "_view_module": "@jupyter-widgets/controls",
            "_view_module_version": "1.5.0",
            "_view_name": "HBoxView",
            "box_style": "",
            "children": [
              "IPY_MODEL_0517d5036b72417ab8f9b18b618984b3",
              "IPY_MODEL_60d4fb07064f439895612ed74648a9ac",
              "IPY_MODEL_ae2710819dec45fe82896bf526efd1b8"
            ],
            "layout": "IPY_MODEL_9d8019a259ee4451a4a742a4977d600c"
          }
        },
        "0517d5036b72417ab8f9b18b618984b3": {
          "model_module": "@jupyter-widgets/controls",
          "model_name": "HTMLModel",
          "model_module_version": "1.5.0",
          "state": {
            "_dom_classes": [],
            "_model_module": "@jupyter-widgets/controls",
            "_model_module_version": "1.5.0",
            "_model_name": "HTMLModel",
            "_view_count": null,
            "_view_module": "@jupyter-widgets/controls",
            "_view_module_version": "1.5.0",
            "_view_name": "HTMLView",
            "description": "",
            "description_tooltip": null,
            "layout": "IPY_MODEL_295a04efcc3e4042bb7011591a1584e0",
            "placeholder": "​",
            "style": "IPY_MODEL_80eb77536da746848c6c7908f123ed64",
            "value": "Downloading (…)ain/hyperparams.yaml: 100%"
          }
        },
        "60d4fb07064f439895612ed74648a9ac": {
          "model_module": "@jupyter-widgets/controls",
          "model_name": "FloatProgressModel",
          "model_module_version": "1.5.0",
          "state": {
            "_dom_classes": [],
            "_model_module": "@jupyter-widgets/controls",
            "_model_module_version": "1.5.0",
            "_model_name": "FloatProgressModel",
            "_view_count": null,
            "_view_module": "@jupyter-widgets/controls",
            "_view_module_version": "1.5.0",
            "_view_name": "ProgressView",
            "bar_style": "success",
            "description": "",
            "description_tooltip": null,
            "layout": "IPY_MODEL_b14b07c02f1442659a282821f80a99b6",
            "max": 2199,
            "min": 0,
            "orientation": "horizontal",
            "style": "IPY_MODEL_3617ba41ed974dd9af96aa6421f3f9d4",
            "value": 2199
          }
        },
        "ae2710819dec45fe82896bf526efd1b8": {
          "model_module": "@jupyter-widgets/controls",
          "model_name": "HTMLModel",
          "model_module_version": "1.5.0",
          "state": {
            "_dom_classes": [],
            "_model_module": "@jupyter-widgets/controls",
            "_model_module_version": "1.5.0",
            "_model_name": "HTMLModel",
            "_view_count": null,
            "_view_module": "@jupyter-widgets/controls",
            "_view_module_version": "1.5.0",
            "_view_name": "HTMLView",
            "description": "",
            "description_tooltip": null,
            "layout": "IPY_MODEL_bc3ebbe32dd24b9bbc46eb79165678de",
            "placeholder": "​",
            "style": "IPY_MODEL_5f79e45e2ed74389958d441f83074673",
            "value": " 2.20k/2.20k [00:00&lt;00:00, 19.2kB/s]"
          }
        },
        "9d8019a259ee4451a4a742a4977d600c": {
          "model_module": "@jupyter-widgets/base",
          "model_name": "LayoutModel",
          "model_module_version": "1.2.0",
          "state": {
            "_model_module": "@jupyter-widgets/base",
            "_model_module_version": "1.2.0",
            "_model_name": "LayoutModel",
            "_view_count": null,
            "_view_module": "@jupyter-widgets/base",
            "_view_module_version": "1.2.0",
            "_view_name": "LayoutView",
            "align_content": null,
            "align_items": null,
            "align_self": null,
            "border": null,
            "bottom": null,
            "display": null,
            "flex": null,
            "flex_flow": null,
            "grid_area": null,
            "grid_auto_columns": null,
            "grid_auto_flow": null,
            "grid_auto_rows": null,
            "grid_column": null,
            "grid_gap": null,
            "grid_row": null,
            "grid_template_areas": null,
            "grid_template_columns": null,
            "grid_template_rows": null,
            "height": null,
            "justify_content": null,
            "justify_items": null,
            "left": null,
            "margin": null,
            "max_height": null,
            "max_width": null,
            "min_height": null,
            "min_width": null,
            "object_fit": null,
            "object_position": null,
            "order": null,
            "overflow": null,
            "overflow_x": null,
            "overflow_y": null,
            "padding": null,
            "right": null,
            "top": null,
            "visibility": null,
            "width": null
          }
        },
        "295a04efcc3e4042bb7011591a1584e0": {
          "model_module": "@jupyter-widgets/base",
          "model_name": "LayoutModel",
          "model_module_version": "1.2.0",
          "state": {
            "_model_module": "@jupyter-widgets/base",
            "_model_module_version": "1.2.0",
            "_model_name": "LayoutModel",
            "_view_count": null,
            "_view_module": "@jupyter-widgets/base",
            "_view_module_version": "1.2.0",
            "_view_name": "LayoutView",
            "align_content": null,
            "align_items": null,
            "align_self": null,
            "border": null,
            "bottom": null,
            "display": null,
            "flex": null,
            "flex_flow": null,
            "grid_area": null,
            "grid_auto_columns": null,
            "grid_auto_flow": null,
            "grid_auto_rows": null,
            "grid_column": null,
            "grid_gap": null,
            "grid_row": null,
            "grid_template_areas": null,
            "grid_template_columns": null,
            "grid_template_rows": null,
            "height": null,
            "justify_content": null,
            "justify_items": null,
            "left": null,
            "margin": null,
            "max_height": null,
            "max_width": null,
            "min_height": null,
            "min_width": null,
            "object_fit": null,
            "object_position": null,
            "order": null,
            "overflow": null,
            "overflow_x": null,
            "overflow_y": null,
            "padding": null,
            "right": null,
            "top": null,
            "visibility": null,
            "width": null
          }
        },
        "80eb77536da746848c6c7908f123ed64": {
          "model_module": "@jupyter-widgets/controls",
          "model_name": "DescriptionStyleModel",
          "model_module_version": "1.5.0",
          "state": {
            "_model_module": "@jupyter-widgets/controls",
            "_model_module_version": "1.5.0",
            "_model_name": "DescriptionStyleModel",
            "_view_count": null,
            "_view_module": "@jupyter-widgets/base",
            "_view_module_version": "1.2.0",
            "_view_name": "StyleView",
            "description_width": ""
          }
        },
        "b14b07c02f1442659a282821f80a99b6": {
          "model_module": "@jupyter-widgets/base",
          "model_name": "LayoutModel",
          "model_module_version": "1.2.0",
          "state": {
            "_model_module": "@jupyter-widgets/base",
            "_model_module_version": "1.2.0",
            "_model_name": "LayoutModel",
            "_view_count": null,
            "_view_module": "@jupyter-widgets/base",
            "_view_module_version": "1.2.0",
            "_view_name": "LayoutView",
            "align_content": null,
            "align_items": null,
            "align_self": null,
            "border": null,
            "bottom": null,
            "display": null,
            "flex": null,
            "flex_flow": null,
            "grid_area": null,
            "grid_auto_columns": null,
            "grid_auto_flow": null,
            "grid_auto_rows": null,
            "grid_column": null,
            "grid_gap": null,
            "grid_row": null,
            "grid_template_areas": null,
            "grid_template_columns": null,
            "grid_template_rows": null,
            "height": null,
            "justify_content": null,
            "justify_items": null,
            "left": null,
            "margin": null,
            "max_height": null,
            "max_width": null,
            "min_height": null,
            "min_width": null,
            "object_fit": null,
            "object_position": null,
            "order": null,
            "overflow": null,
            "overflow_x": null,
            "overflow_y": null,
            "padding": null,
            "right": null,
            "top": null,
            "visibility": null,
            "width": null
          }
        },
        "3617ba41ed974dd9af96aa6421f3f9d4": {
          "model_module": "@jupyter-widgets/controls",
          "model_name": "ProgressStyleModel",
          "model_module_version": "1.5.0",
          "state": {
            "_model_module": "@jupyter-widgets/controls",
            "_model_module_version": "1.5.0",
            "_model_name": "ProgressStyleModel",
            "_view_count": null,
            "_view_module": "@jupyter-widgets/base",
            "_view_module_version": "1.2.0",
            "_view_name": "StyleView",
            "bar_color": null,
            "description_width": ""
          }
        },
        "bc3ebbe32dd24b9bbc46eb79165678de": {
          "model_module": "@jupyter-widgets/base",
          "model_name": "LayoutModel",
          "model_module_version": "1.2.0",
          "state": {
            "_model_module": "@jupyter-widgets/base",
            "_model_module_version": "1.2.0",
            "_model_name": "LayoutModel",
            "_view_count": null,
            "_view_module": "@jupyter-widgets/base",
            "_view_module_version": "1.2.0",
            "_view_name": "LayoutView",
            "align_content": null,
            "align_items": null,
            "align_self": null,
            "border": null,
            "bottom": null,
            "display": null,
            "flex": null,
            "flex_flow": null,
            "grid_area": null,
            "grid_auto_columns": null,
            "grid_auto_flow": null,
            "grid_auto_rows": null,
            "grid_column": null,
            "grid_gap": null,
            "grid_row": null,
            "grid_template_areas": null,
            "grid_template_columns": null,
            "grid_template_rows": null,
            "height": null,
            "justify_content": null,
            "justify_items": null,
            "left": null,
            "margin": null,
            "max_height": null,
            "max_width": null,
            "min_height": null,
            "min_width": null,
            "object_fit": null,
            "object_position": null,
            "order": null,
            "overflow": null,
            "overflow_x": null,
            "overflow_y": null,
            "padding": null,
            "right": null,
            "top": null,
            "visibility": null,
            "width": null
          }
        },
        "5f79e45e2ed74389958d441f83074673": {
          "model_module": "@jupyter-widgets/controls",
          "model_name": "DescriptionStyleModel",
          "model_module_version": "1.5.0",
          "state": {
            "_model_module": "@jupyter-widgets/controls",
            "_model_module_version": "1.5.0",
            "_model_name": "DescriptionStyleModel",
            "_view_count": null,
            "_view_module": "@jupyter-widgets/base",
            "_view_module_version": "1.2.0",
            "_view_name": "StyleView",
            "description_width": ""
          }
        },
        "7788e10fcdb74ed9a802ecf585d73829": {
          "model_module": "@jupyter-widgets/controls",
          "model_name": "HBoxModel",
          "model_module_version": "1.5.0",
          "state": {
            "_dom_classes": [],
            "_model_module": "@jupyter-widgets/controls",
            "_model_module_version": "1.5.0",
            "_model_name": "HBoxModel",
            "_view_count": null,
            "_view_module": "@jupyter-widgets/controls",
            "_view_module_version": "1.5.0",
            "_view_name": "HBoxView",
            "box_style": "",
            "children": [
              "IPY_MODEL_f3aa02e908d74b42aa9021c43c4d44e2",
              "IPY_MODEL_d16d91e7bbf54ece8e131ec9f737bb91",
              "IPY_MODEL_36eedf787ab1405cb61d39a9cbd98869"
            ],
            "layout": "IPY_MODEL_77cdce5ffa264b7c9e68b5fd09a24562"
          }
        },
        "f3aa02e908d74b42aa9021c43c4d44e2": {
          "model_module": "@jupyter-widgets/controls",
          "model_name": "HTMLModel",
          "model_module_version": "1.5.0",
          "state": {
            "_dom_classes": [],
            "_model_module": "@jupyter-widgets/controls",
            "_model_module_version": "1.5.0",
            "_model_name": "HTMLModel",
            "_view_count": null,
            "_view_module": "@jupyter-widgets/controls",
            "_view_module_version": "1.5.0",
            "_view_name": "HTMLView",
            "description": "",
            "description_tooltip": null,
            "layout": "IPY_MODEL_8fd49487a60141c49cb4bf89523169e4",
            "placeholder": "​",
            "style": "IPY_MODEL_f8c211616b274b65ae8f4509fd94f76a",
            "value": "Downloading model.ckpt: 100%"
          }
        },
        "d16d91e7bbf54ece8e131ec9f737bb91": {
          "model_module": "@jupyter-widgets/controls",
          "model_name": "FloatProgressModel",
          "model_module_version": "1.5.0",
          "state": {
            "_dom_classes": [],
            "_model_module": "@jupyter-widgets/controls",
            "_model_module_version": "1.5.0",
            "_model_name": "FloatProgressModel",
            "_view_count": null,
            "_view_module": "@jupyter-widgets/controls",
            "_view_module_version": "1.5.0",
            "_view_name": "ProgressView",
            "bar_style": "success",
            "description": "",
            "description_tooltip": null,
            "layout": "IPY_MODEL_a739c6e37a9a40ffbd933d33b1ffc52b",
            "max": 112830206,
            "min": 0,
            "orientation": "horizontal",
            "style": "IPY_MODEL_dac18d84a8764f1ea9389ac9d3918489",
            "value": 112830206
          }
        },
        "36eedf787ab1405cb61d39a9cbd98869": {
          "model_module": "@jupyter-widgets/controls",
          "model_name": "HTMLModel",
          "model_module_version": "1.5.0",
          "state": {
            "_dom_classes": [],
            "_model_module": "@jupyter-widgets/controls",
            "_model_module_version": "1.5.0",
            "_model_name": "HTMLModel",
            "_view_count": null,
            "_view_module": "@jupyter-widgets/controls",
            "_view_module_version": "1.5.0",
            "_view_name": "HTMLView",
            "description": "",
            "description_tooltip": null,
            "layout": "IPY_MODEL_1173d9c7715b4f1b987c13367df9a0f0",
            "placeholder": "​",
            "style": "IPY_MODEL_50f2ee2ddb8d44d8abfd15dd3f5b20e1",
            "value": " 113M/113M [00:01&lt;00:00, 147MB/s]"
          }
        },
        "77cdce5ffa264b7c9e68b5fd09a24562": {
          "model_module": "@jupyter-widgets/base",
          "model_name": "LayoutModel",
          "model_module_version": "1.2.0",
          "state": {
            "_model_module": "@jupyter-widgets/base",
            "_model_module_version": "1.2.0",
            "_model_name": "LayoutModel",
            "_view_count": null,
            "_view_module": "@jupyter-widgets/base",
            "_view_module_version": "1.2.0",
            "_view_name": "LayoutView",
            "align_content": null,
            "align_items": null,
            "align_self": null,
            "border": null,
            "bottom": null,
            "display": null,
            "flex": null,
            "flex_flow": null,
            "grid_area": null,
            "grid_auto_columns": null,
            "grid_auto_flow": null,
            "grid_auto_rows": null,
            "grid_column": null,
            "grid_gap": null,
            "grid_row": null,
            "grid_template_areas": null,
            "grid_template_columns": null,
            "grid_template_rows": null,
            "height": null,
            "justify_content": null,
            "justify_items": null,
            "left": null,
            "margin": null,
            "max_height": null,
            "max_width": null,
            "min_height": null,
            "min_width": null,
            "object_fit": null,
            "object_position": null,
            "order": null,
            "overflow": null,
            "overflow_x": null,
            "overflow_y": null,
            "padding": null,
            "right": null,
            "top": null,
            "visibility": null,
            "width": null
          }
        },
        "8fd49487a60141c49cb4bf89523169e4": {
          "model_module": "@jupyter-widgets/base",
          "model_name": "LayoutModel",
          "model_module_version": "1.2.0",
          "state": {
            "_model_module": "@jupyter-widgets/base",
            "_model_module_version": "1.2.0",
            "_model_name": "LayoutModel",
            "_view_count": null,
            "_view_module": "@jupyter-widgets/base",
            "_view_module_version": "1.2.0",
            "_view_name": "LayoutView",
            "align_content": null,
            "align_items": null,
            "align_self": null,
            "border": null,
            "bottom": null,
            "display": null,
            "flex": null,
            "flex_flow": null,
            "grid_area": null,
            "grid_auto_columns": null,
            "grid_auto_flow": null,
            "grid_auto_rows": null,
            "grid_column": null,
            "grid_gap": null,
            "grid_row": null,
            "grid_template_areas": null,
            "grid_template_columns": null,
            "grid_template_rows": null,
            "height": null,
            "justify_content": null,
            "justify_items": null,
            "left": null,
            "margin": null,
            "max_height": null,
            "max_width": null,
            "min_height": null,
            "min_width": null,
            "object_fit": null,
            "object_position": null,
            "order": null,
            "overflow": null,
            "overflow_x": null,
            "overflow_y": null,
            "padding": null,
            "right": null,
            "top": null,
            "visibility": null,
            "width": null
          }
        },
        "f8c211616b274b65ae8f4509fd94f76a": {
          "model_module": "@jupyter-widgets/controls",
          "model_name": "DescriptionStyleModel",
          "model_module_version": "1.5.0",
          "state": {
            "_model_module": "@jupyter-widgets/controls",
            "_model_module_version": "1.5.0",
            "_model_name": "DescriptionStyleModel",
            "_view_count": null,
            "_view_module": "@jupyter-widgets/base",
            "_view_module_version": "1.2.0",
            "_view_name": "StyleView",
            "description_width": ""
          }
        },
        "a739c6e37a9a40ffbd933d33b1ffc52b": {
          "model_module": "@jupyter-widgets/base",
          "model_name": "LayoutModel",
          "model_module_version": "1.2.0",
          "state": {
            "_model_module": "@jupyter-widgets/base",
            "_model_module_version": "1.2.0",
            "_model_name": "LayoutModel",
            "_view_count": null,
            "_view_module": "@jupyter-widgets/base",
            "_view_module_version": "1.2.0",
            "_view_name": "LayoutView",
            "align_content": null,
            "align_items": null,
            "align_self": null,
            "border": null,
            "bottom": null,
            "display": null,
            "flex": null,
            "flex_flow": null,
            "grid_area": null,
            "grid_auto_columns": null,
            "grid_auto_flow": null,
            "grid_auto_rows": null,
            "grid_column": null,
            "grid_gap": null,
            "grid_row": null,
            "grid_template_areas": null,
            "grid_template_columns": null,
            "grid_template_rows": null,
            "height": null,
            "justify_content": null,
            "justify_items": null,
            "left": null,
            "margin": null,
            "max_height": null,
            "max_width": null,
            "min_height": null,
            "min_width": null,
            "object_fit": null,
            "object_position": null,
            "order": null,
            "overflow": null,
            "overflow_x": null,
            "overflow_y": null,
            "padding": null,
            "right": null,
            "top": null,
            "visibility": null,
            "width": null
          }
        },
        "dac18d84a8764f1ea9389ac9d3918489": {
          "model_module": "@jupyter-widgets/controls",
          "model_name": "ProgressStyleModel",
          "model_module_version": "1.5.0",
          "state": {
            "_model_module": "@jupyter-widgets/controls",
            "_model_module_version": "1.5.0",
            "_model_name": "ProgressStyleModel",
            "_view_count": null,
            "_view_module": "@jupyter-widgets/base",
            "_view_module_version": "1.2.0",
            "_view_name": "StyleView",
            "bar_color": null,
            "description_width": ""
          }
        },
        "1173d9c7715b4f1b987c13367df9a0f0": {
          "model_module": "@jupyter-widgets/base",
          "model_name": "LayoutModel",
          "model_module_version": "1.2.0",
          "state": {
            "_model_module": "@jupyter-widgets/base",
            "_model_module_version": "1.2.0",
            "_model_name": "LayoutModel",
            "_view_count": null,
            "_view_module": "@jupyter-widgets/base",
            "_view_module_version": "1.2.0",
            "_view_name": "LayoutView",
            "align_content": null,
            "align_items": null,
            "align_self": null,
            "border": null,
            "bottom": null,
            "display": null,
            "flex": null,
            "flex_flow": null,
            "grid_area": null,
            "grid_auto_columns": null,
            "grid_auto_flow": null,
            "grid_auto_rows": null,
            "grid_column": null,
            "grid_gap": null,
            "grid_row": null,
            "grid_template_areas": null,
            "grid_template_columns": null,
            "grid_template_rows": null,
            "height": null,
            "justify_content": null,
            "justify_items": null,
            "left": null,
            "margin": null,
            "max_height": null,
            "max_width": null,
            "min_height": null,
            "min_width": null,
            "object_fit": null,
            "object_position": null,
            "order": null,
            "overflow": null,
            "overflow_x": null,
            "overflow_y": null,
            "padding": null,
            "right": null,
            "top": null,
            "visibility": null,
            "width": null
          }
        },
        "50f2ee2ddb8d44d8abfd15dd3f5b20e1": {
          "model_module": "@jupyter-widgets/controls",
          "model_name": "DescriptionStyleModel",
          "model_module_version": "1.5.0",
          "state": {
            "_model_module": "@jupyter-widgets/controls",
            "_model_module_version": "1.5.0",
            "_model_name": "DescriptionStyleModel",
            "_view_count": null,
            "_view_module": "@jupyter-widgets/base",
            "_view_module_version": "1.2.0",
            "_view_name": "StyleView",
            "description_width": ""
          }
        },
        "81812c2af2f14a30b5dae89e74b2e2d9": {
          "model_module": "@jupyter-widgets/controls",
          "model_name": "HBoxModel",
          "model_module_version": "1.5.0",
          "state": {
            "_dom_classes": [],
            "_model_module": "@jupyter-widgets/controls",
            "_model_module_version": "1.5.0",
            "_model_name": "HBoxModel",
            "_view_count": null,
            "_view_module": "@jupyter-widgets/controls",
            "_view_module_version": "1.5.0",
            "_view_name": "HBoxView",
            "box_style": "",
            "children": [
              "IPY_MODEL_3d0d464b6ee543c1a534a8d594511d50",
              "IPY_MODEL_dfbd0823a6774976b5834245ae3c6164",
              "IPY_MODEL_9c9b2ba5cb00471ab70ba7c27d6a4218"
            ],
            "layout": "IPY_MODEL_ccb612ae12d94f62826f10960b6268a8"
          }
        },
        "3d0d464b6ee543c1a534a8d594511d50": {
          "model_module": "@jupyter-widgets/controls",
          "model_name": "HTMLModel",
          "model_module_version": "1.5.0",
          "state": {
            "_dom_classes": [],
            "_model_module": "@jupyter-widgets/controls",
            "_model_module_version": "1.5.0",
            "_model_name": "HTMLModel",
            "_view_count": null,
            "_view_module": "@jupyter-widgets/controls",
            "_view_module_version": "1.5.0",
            "_view_name": "HTMLView",
            "description": "",
            "description_tooltip": null,
            "layout": "IPY_MODEL_4fb31e858651470385435db1bd33c213",
            "placeholder": "​",
            "style": "IPY_MODEL_5f6a74bfc5ff43d39c31787dac3ef3b8",
            "value": "Downloading (…)ain/hyperparams.yaml: 100%"
          }
        },
        "dfbd0823a6774976b5834245ae3c6164": {
          "model_module": "@jupyter-widgets/controls",
          "model_name": "FloatProgressModel",
          "model_module_version": "1.5.0",
          "state": {
            "_dom_classes": [],
            "_model_module": "@jupyter-widgets/controls",
            "_model_module_version": "1.5.0",
            "_model_name": "FloatProgressModel",
            "_view_count": null,
            "_view_module": "@jupyter-widgets/controls",
            "_view_module_version": "1.5.0",
            "_view_name": "ProgressView",
            "bar_style": "success",
            "description": "",
            "description_tooltip": null,
            "layout": "IPY_MODEL_b88b2af76e61484ab5b646919b85cd89",
            "max": 1156,
            "min": 0,
            "orientation": "horizontal",
            "style": "IPY_MODEL_5c0d05358b494ef1affc58c4e0aa9667",
            "value": 1156
          }
        },
        "9c9b2ba5cb00471ab70ba7c27d6a4218": {
          "model_module": "@jupyter-widgets/controls",
          "model_name": "HTMLModel",
          "model_module_version": "1.5.0",
          "state": {
            "_dom_classes": [],
            "_model_module": "@jupyter-widgets/controls",
            "_model_module_version": "1.5.0",
            "_model_name": "HTMLModel",
            "_view_count": null,
            "_view_module": "@jupyter-widgets/controls",
            "_view_module_version": "1.5.0",
            "_view_name": "HTMLView",
            "description": "",
            "description_tooltip": null,
            "layout": "IPY_MODEL_e8f916aa1292466fa090415764d9a185",
            "placeholder": "​",
            "style": "IPY_MODEL_0619ea6a4e924539a1e3d8e203386fae",
            "value": " 1.16k/1.16k [00:00&lt;00:00, 60.1kB/s]"
          }
        },
        "ccb612ae12d94f62826f10960b6268a8": {
          "model_module": "@jupyter-widgets/base",
          "model_name": "LayoutModel",
          "model_module_version": "1.2.0",
          "state": {
            "_model_module": "@jupyter-widgets/base",
            "_model_module_version": "1.2.0",
            "_model_name": "LayoutModel",
            "_view_count": null,
            "_view_module": "@jupyter-widgets/base",
            "_view_module_version": "1.2.0",
            "_view_name": "LayoutView",
            "align_content": null,
            "align_items": null,
            "align_self": null,
            "border": null,
            "bottom": null,
            "display": null,
            "flex": null,
            "flex_flow": null,
            "grid_area": null,
            "grid_auto_columns": null,
            "grid_auto_flow": null,
            "grid_auto_rows": null,
            "grid_column": null,
            "grid_gap": null,
            "grid_row": null,
            "grid_template_areas": null,
            "grid_template_columns": null,
            "grid_template_rows": null,
            "height": null,
            "justify_content": null,
            "justify_items": null,
            "left": null,
            "margin": null,
            "max_height": null,
            "max_width": null,
            "min_height": null,
            "min_width": null,
            "object_fit": null,
            "object_position": null,
            "order": null,
            "overflow": null,
            "overflow_x": null,
            "overflow_y": null,
            "padding": null,
            "right": null,
            "top": null,
            "visibility": null,
            "width": null
          }
        },
        "4fb31e858651470385435db1bd33c213": {
          "model_module": "@jupyter-widgets/base",
          "model_name": "LayoutModel",
          "model_module_version": "1.2.0",
          "state": {
            "_model_module": "@jupyter-widgets/base",
            "_model_module_version": "1.2.0",
            "_model_name": "LayoutModel",
            "_view_count": null,
            "_view_module": "@jupyter-widgets/base",
            "_view_module_version": "1.2.0",
            "_view_name": "LayoutView",
            "align_content": null,
            "align_items": null,
            "align_self": null,
            "border": null,
            "bottom": null,
            "display": null,
            "flex": null,
            "flex_flow": null,
            "grid_area": null,
            "grid_auto_columns": null,
            "grid_auto_flow": null,
            "grid_auto_rows": null,
            "grid_column": null,
            "grid_gap": null,
            "grid_row": null,
            "grid_template_areas": null,
            "grid_template_columns": null,
            "grid_template_rows": null,
            "height": null,
            "justify_content": null,
            "justify_items": null,
            "left": null,
            "margin": null,
            "max_height": null,
            "max_width": null,
            "min_height": null,
            "min_width": null,
            "object_fit": null,
            "object_position": null,
            "order": null,
            "overflow": null,
            "overflow_x": null,
            "overflow_y": null,
            "padding": null,
            "right": null,
            "top": null,
            "visibility": null,
            "width": null
          }
        },
        "5f6a74bfc5ff43d39c31787dac3ef3b8": {
          "model_module": "@jupyter-widgets/controls",
          "model_name": "DescriptionStyleModel",
          "model_module_version": "1.5.0",
          "state": {
            "_model_module": "@jupyter-widgets/controls",
            "_model_module_version": "1.5.0",
            "_model_name": "DescriptionStyleModel",
            "_view_count": null,
            "_view_module": "@jupyter-widgets/base",
            "_view_module_version": "1.2.0",
            "_view_name": "StyleView",
            "description_width": ""
          }
        },
        "b88b2af76e61484ab5b646919b85cd89": {
          "model_module": "@jupyter-widgets/base",
          "model_name": "LayoutModel",
          "model_module_version": "1.2.0",
          "state": {
            "_model_module": "@jupyter-widgets/base",
            "_model_module_version": "1.2.0",
            "_model_name": "LayoutModel",
            "_view_count": null,
            "_view_module": "@jupyter-widgets/base",
            "_view_module_version": "1.2.0",
            "_view_name": "LayoutView",
            "align_content": null,
            "align_items": null,
            "align_self": null,
            "border": null,
            "bottom": null,
            "display": null,
            "flex": null,
            "flex_flow": null,
            "grid_area": null,
            "grid_auto_columns": null,
            "grid_auto_flow": null,
            "grid_auto_rows": null,
            "grid_column": null,
            "grid_gap": null,
            "grid_row": null,
            "grid_template_areas": null,
            "grid_template_columns": null,
            "grid_template_rows": null,
            "height": null,
            "justify_content": null,
            "justify_items": null,
            "left": null,
            "margin": null,
            "max_height": null,
            "max_width": null,
            "min_height": null,
            "min_width": null,
            "object_fit": null,
            "object_position": null,
            "order": null,
            "overflow": null,
            "overflow_x": null,
            "overflow_y": null,
            "padding": null,
            "right": null,
            "top": null,
            "visibility": null,
            "width": null
          }
        },
        "5c0d05358b494ef1affc58c4e0aa9667": {
          "model_module": "@jupyter-widgets/controls",
          "model_name": "ProgressStyleModel",
          "model_module_version": "1.5.0",
          "state": {
            "_model_module": "@jupyter-widgets/controls",
            "_model_module_version": "1.5.0",
            "_model_name": "ProgressStyleModel",
            "_view_count": null,
            "_view_module": "@jupyter-widgets/base",
            "_view_module_version": "1.2.0",
            "_view_name": "StyleView",
            "bar_color": null,
            "description_width": ""
          }
        },
        "e8f916aa1292466fa090415764d9a185": {
          "model_module": "@jupyter-widgets/base",
          "model_name": "LayoutModel",
          "model_module_version": "1.2.0",
          "state": {
            "_model_module": "@jupyter-widgets/base",
            "_model_module_version": "1.2.0",
            "_model_name": "LayoutModel",
            "_view_count": null,
            "_view_module": "@jupyter-widgets/base",
            "_view_module_version": "1.2.0",
            "_view_name": "LayoutView",
            "align_content": null,
            "align_items": null,
            "align_self": null,
            "border": null,
            "bottom": null,
            "display": null,
            "flex": null,
            "flex_flow": null,
            "grid_area": null,
            "grid_auto_columns": null,
            "grid_auto_flow": null,
            "grid_auto_rows": null,
            "grid_column": null,
            "grid_gap": null,
            "grid_row": null,
            "grid_template_areas": null,
            "grid_template_columns": null,
            "grid_template_rows": null,
            "height": null,
            "justify_content": null,
            "justify_items": null,
            "left": null,
            "margin": null,
            "max_height": null,
            "max_width": null,
            "min_height": null,
            "min_width": null,
            "object_fit": null,
            "object_position": null,
            "order": null,
            "overflow": null,
            "overflow_x": null,
            "overflow_y": null,
            "padding": null,
            "right": null,
            "top": null,
            "visibility": null,
            "width": null
          }
        },
        "0619ea6a4e924539a1e3d8e203386fae": {
          "model_module": "@jupyter-widgets/controls",
          "model_name": "DescriptionStyleModel",
          "model_module_version": "1.5.0",
          "state": {
            "_model_module": "@jupyter-widgets/controls",
            "_model_module_version": "1.5.0",
            "_model_name": "DescriptionStyleModel",
            "_view_count": null,
            "_view_module": "@jupyter-widgets/base",
            "_view_module_version": "1.2.0",
            "_view_name": "StyleView",
            "description_width": ""
          }
        },
        "b11361fb4f0c4aef8b91135ea4411dc5": {
          "model_module": "@jupyter-widgets/controls",
          "model_name": "HBoxModel",
          "model_module_version": "1.5.0",
          "state": {
            "_dom_classes": [],
            "_model_module": "@jupyter-widgets/controls",
            "_model_module_version": "1.5.0",
            "_model_name": "HBoxModel",
            "_view_count": null,
            "_view_module": "@jupyter-widgets/controls",
            "_view_module_version": "1.5.0",
            "_view_name": "HBoxView",
            "box_style": "",
            "children": [
              "IPY_MODEL_453ab75a9db548e69fe5eae281e24eff",
              "IPY_MODEL_9bef195ce1b344be817168d4b6e5d416",
              "IPY_MODEL_445f4592ecd14293983c551ad725806a"
            ],
            "layout": "IPY_MODEL_7ef07db03b8e4a2db8c26a248dc84838"
          }
        },
        "453ab75a9db548e69fe5eae281e24eff": {
          "model_module": "@jupyter-widgets/controls",
          "model_name": "HTMLModel",
          "model_module_version": "1.5.0",
          "state": {
            "_dom_classes": [],
            "_model_module": "@jupyter-widgets/controls",
            "_model_module_version": "1.5.0",
            "_model_name": "HTMLModel",
            "_view_count": null,
            "_view_module": "@jupyter-widgets/controls",
            "_view_module_version": "1.5.0",
            "_view_name": "HTMLView",
            "description": "",
            "description_tooltip": null,
            "layout": "IPY_MODEL_be337c250a924d23937cb3ccbf2c3234",
            "placeholder": "​",
            "style": "IPY_MODEL_9e3424fc283a4669ada7168503aed8c0",
            "value": "Downloading generator.ckpt: 100%"
          }
        },
        "9bef195ce1b344be817168d4b6e5d416": {
          "model_module": "@jupyter-widgets/controls",
          "model_name": "FloatProgressModel",
          "model_module_version": "1.5.0",
          "state": {
            "_dom_classes": [],
            "_model_module": "@jupyter-widgets/controls",
            "_model_module_version": "1.5.0",
            "_model_name": "FloatProgressModel",
            "_view_count": null,
            "_view_module": "@jupyter-widgets/controls",
            "_view_module_version": "1.5.0",
            "_view_name": "ProgressView",
            "bar_style": "success",
            "description": "",
            "description_tooltip": null,
            "layout": "IPY_MODEL_4000a1c1324340f28a19c4bc237bb6b8",
            "max": 55828077,
            "min": 0,
            "orientation": "horizontal",
            "style": "IPY_MODEL_299f982eb9cc46d389c36063f4aab8ad",
            "value": 55828077
          }
        },
        "445f4592ecd14293983c551ad725806a": {
          "model_module": "@jupyter-widgets/controls",
          "model_name": "HTMLModel",
          "model_module_version": "1.5.0",
          "state": {
            "_dom_classes": [],
            "_model_module": "@jupyter-widgets/controls",
            "_model_module_version": "1.5.0",
            "_model_name": "HTMLModel",
            "_view_count": null,
            "_view_module": "@jupyter-widgets/controls",
            "_view_module_version": "1.5.0",
            "_view_name": "HTMLView",
            "description": "",
            "description_tooltip": null,
            "layout": "IPY_MODEL_6eb56a01da684f228eea4b116e92f9ea",
            "placeholder": "​",
            "style": "IPY_MODEL_300a82bab29041568d8c9ea6b547cfa3",
            "value": " 55.8M/55.8M [00:00&lt;00:00, 137MB/s]"
          }
        },
        "7ef07db03b8e4a2db8c26a248dc84838": {
          "model_module": "@jupyter-widgets/base",
          "model_name": "LayoutModel",
          "model_module_version": "1.2.0",
          "state": {
            "_model_module": "@jupyter-widgets/base",
            "_model_module_version": "1.2.0",
            "_model_name": "LayoutModel",
            "_view_count": null,
            "_view_module": "@jupyter-widgets/base",
            "_view_module_version": "1.2.0",
            "_view_name": "LayoutView",
            "align_content": null,
            "align_items": null,
            "align_self": null,
            "border": null,
            "bottom": null,
            "display": null,
            "flex": null,
            "flex_flow": null,
            "grid_area": null,
            "grid_auto_columns": null,
            "grid_auto_flow": null,
            "grid_auto_rows": null,
            "grid_column": null,
            "grid_gap": null,
            "grid_row": null,
            "grid_template_areas": null,
            "grid_template_columns": null,
            "grid_template_rows": null,
            "height": null,
            "justify_content": null,
            "justify_items": null,
            "left": null,
            "margin": null,
            "max_height": null,
            "max_width": null,
            "min_height": null,
            "min_width": null,
            "object_fit": null,
            "object_position": null,
            "order": null,
            "overflow": null,
            "overflow_x": null,
            "overflow_y": null,
            "padding": null,
            "right": null,
            "top": null,
            "visibility": null,
            "width": null
          }
        },
        "be337c250a924d23937cb3ccbf2c3234": {
          "model_module": "@jupyter-widgets/base",
          "model_name": "LayoutModel",
          "model_module_version": "1.2.0",
          "state": {
            "_model_module": "@jupyter-widgets/base",
            "_model_module_version": "1.2.0",
            "_model_name": "LayoutModel",
            "_view_count": null,
            "_view_module": "@jupyter-widgets/base",
            "_view_module_version": "1.2.0",
            "_view_name": "LayoutView",
            "align_content": null,
            "align_items": null,
            "align_self": null,
            "border": null,
            "bottom": null,
            "display": null,
            "flex": null,
            "flex_flow": null,
            "grid_area": null,
            "grid_auto_columns": null,
            "grid_auto_flow": null,
            "grid_auto_rows": null,
            "grid_column": null,
            "grid_gap": null,
            "grid_row": null,
            "grid_template_areas": null,
            "grid_template_columns": null,
            "grid_template_rows": null,
            "height": null,
            "justify_content": null,
            "justify_items": null,
            "left": null,
            "margin": null,
            "max_height": null,
            "max_width": null,
            "min_height": null,
            "min_width": null,
            "object_fit": null,
            "object_position": null,
            "order": null,
            "overflow": null,
            "overflow_x": null,
            "overflow_y": null,
            "padding": null,
            "right": null,
            "top": null,
            "visibility": null,
            "width": null
          }
        },
        "9e3424fc283a4669ada7168503aed8c0": {
          "model_module": "@jupyter-widgets/controls",
          "model_name": "DescriptionStyleModel",
          "model_module_version": "1.5.0",
          "state": {
            "_model_module": "@jupyter-widgets/controls",
            "_model_module_version": "1.5.0",
            "_model_name": "DescriptionStyleModel",
            "_view_count": null,
            "_view_module": "@jupyter-widgets/base",
            "_view_module_version": "1.2.0",
            "_view_name": "StyleView",
            "description_width": ""
          }
        },
        "4000a1c1324340f28a19c4bc237bb6b8": {
          "model_module": "@jupyter-widgets/base",
          "model_name": "LayoutModel",
          "model_module_version": "1.2.0",
          "state": {
            "_model_module": "@jupyter-widgets/base",
            "_model_module_version": "1.2.0",
            "_model_name": "LayoutModel",
            "_view_count": null,
            "_view_module": "@jupyter-widgets/base",
            "_view_module_version": "1.2.0",
            "_view_name": "LayoutView",
            "align_content": null,
            "align_items": null,
            "align_self": null,
            "border": null,
            "bottom": null,
            "display": null,
            "flex": null,
            "flex_flow": null,
            "grid_area": null,
            "grid_auto_columns": null,
            "grid_auto_flow": null,
            "grid_auto_rows": null,
            "grid_column": null,
            "grid_gap": null,
            "grid_row": null,
            "grid_template_areas": null,
            "grid_template_columns": null,
            "grid_template_rows": null,
            "height": null,
            "justify_content": null,
            "justify_items": null,
            "left": null,
            "margin": null,
            "max_height": null,
            "max_width": null,
            "min_height": null,
            "min_width": null,
            "object_fit": null,
            "object_position": null,
            "order": null,
            "overflow": null,
            "overflow_x": null,
            "overflow_y": null,
            "padding": null,
            "right": null,
            "top": null,
            "visibility": null,
            "width": null
          }
        },
        "299f982eb9cc46d389c36063f4aab8ad": {
          "model_module": "@jupyter-widgets/controls",
          "model_name": "ProgressStyleModel",
          "model_module_version": "1.5.0",
          "state": {
            "_model_module": "@jupyter-widgets/controls",
            "_model_module_version": "1.5.0",
            "_model_name": "ProgressStyleModel",
            "_view_count": null,
            "_view_module": "@jupyter-widgets/base",
            "_view_module_version": "1.2.0",
            "_view_name": "StyleView",
            "bar_color": null,
            "description_width": ""
          }
        },
        "6eb56a01da684f228eea4b116e92f9ea": {
          "model_module": "@jupyter-widgets/base",
          "model_name": "LayoutModel",
          "model_module_version": "1.2.0",
          "state": {
            "_model_module": "@jupyter-widgets/base",
            "_model_module_version": "1.2.0",
            "_model_name": "LayoutModel",
            "_view_count": null,
            "_view_module": "@jupyter-widgets/base",
            "_view_module_version": "1.2.0",
            "_view_name": "LayoutView",
            "align_content": null,
            "align_items": null,
            "align_self": null,
            "border": null,
            "bottom": null,
            "display": null,
            "flex": null,
            "flex_flow": null,
            "grid_area": null,
            "grid_auto_columns": null,
            "grid_auto_flow": null,
            "grid_auto_rows": null,
            "grid_column": null,
            "grid_gap": null,
            "grid_row": null,
            "grid_template_areas": null,
            "grid_template_columns": null,
            "grid_template_rows": null,
            "height": null,
            "justify_content": null,
            "justify_items": null,
            "left": null,
            "margin": null,
            "max_height": null,
            "max_width": null,
            "min_height": null,
            "min_width": null,
            "object_fit": null,
            "object_position": null,
            "order": null,
            "overflow": null,
            "overflow_x": null,
            "overflow_y": null,
            "padding": null,
            "right": null,
            "top": null,
            "visibility": null,
            "width": null
          }
        },
        "300a82bab29041568d8c9ea6b547cfa3": {
          "model_module": "@jupyter-widgets/controls",
          "model_name": "DescriptionStyleModel",
          "model_module_version": "1.5.0",
          "state": {
            "_model_module": "@jupyter-widgets/controls",
            "_model_module_version": "1.5.0",
            "_model_name": "DescriptionStyleModel",
            "_view_count": null,
            "_view_module": "@jupyter-widgets/base",
            "_view_module_version": "1.2.0",
            "_view_name": "StyleView",
            "description_width": ""
          }
        }
      }
    }
  },
  "cells": [
    {
      "cell_type": "markdown",
      "metadata": {
        "id": "view-in-github",
        "colab_type": "text"
      },
      "source": [
        "<a href=\"https://colab.research.google.com/github/MYTE21/ML.Deep-Learning/blob/main/notebooks/(1)%20Text%20To%20Speech%20(TTS).ipynb\" target=\"_parent\"><img src=\"https://colab.research.google.com/assets/colab-badge.svg\" alt=\"Open In Colab\"/></a>"
      ]
    },
    {
      "cell_type": "markdown",
      "source": [
        "# Text-to-speech (TTS)\n",
        "\n",
        "*`Text-to-speech (TTS)` is a technology that converts text into spoken audio.*"
      ],
      "metadata": {
        "id": "Om2X9i_mre37"
      }
    },
    {
      "cell_type": "markdown",
      "source": [
        "# Setting Up Necessary Things"
      ],
      "metadata": {
        "id": "bz8ViZpKsjx6"
      }
    },
    {
      "cell_type": "code",
      "source": [
        "# Jupyter Notebook Magic Command - Auto Reloading\n",
        "%reload_ext autoreload\n",
        "%autoreload 2\n",
        "\n",
        "# Jupyter Notebook Magic Command - Inline Plotting\n",
        "%matplotlib inline"
      ],
      "metadata": {
        "id": "iG6CCuBisqeJ"
      },
      "execution_count": 1,
      "outputs": []
    },
    {
      "cell_type": "code",
      "execution_count": 2,
      "metadata": {
        "id": "7eaNTDPArNI_"
      },
      "outputs": [],
      "source": [
        "# Ignore All Warnings\n",
        "import warnings\n",
        "warnings.filterwarnings(\"ignore\")"
      ]
    },
    {
      "cell_type": "markdown",
      "source": [
        "# Necessary Imports"
      ],
      "metadata": {
        "id": "JjWhyMTRsxRn"
      }
    },
    {
      "cell_type": "code",
      "source": [
        "# Necessary installs\n",
        "! pip install -q speechbrain"
      ],
      "metadata": {
        "colab": {
          "base_uri": "https://localhost:8080/"
        },
        "id": "2cjhPikrr8Pd",
        "outputId": "64175340-a1de-4466-f1e3-79022bbf3f00"
      },
      "execution_count": 3,
      "outputs": [
        {
          "output_type": "stream",
          "name": "stdout",
          "text": [
            "\u001b[2K     \u001b[90m━━━━━━━━━━━━━━━━━━━━━━━━━━━━━━━━━━━━━━━\u001b[0m \u001b[32m553.8/553.8 kB\u001b[0m \u001b[31m8.3 MB/s\u001b[0m eta \u001b[36m0:00:00\u001b[0m\n",
            "\u001b[2K     \u001b[90m━━━━━━━━━━━━━━━━━━━━━━━━━━━━━━━━━━━━━━━━\u001b[0m \u001b[32m1.3/1.3 MB\u001b[0m \u001b[31m37.0 MB/s\u001b[0m eta \u001b[36m0:00:00\u001b[0m\n",
            "\u001b[2K     \u001b[90m━━━━━━━━━━━━━━━━━━━━━━━━━━━━━━━━━━━━━━\u001b[0m \u001b[32m295.0/295.0 kB\u001b[0m \u001b[31m15.7 MB/s\u001b[0m eta \u001b[36m0:00:00\u001b[0m\n",
            "\u001b[2K     \u001b[90m━━━━━━━━━━━━━━━━━━━━━━━━━━━━━━━━━━━━━━\u001b[0m \u001b[32m112.3/112.3 kB\u001b[0m \u001b[31m10.0 MB/s\u001b[0m eta \u001b[36m0:00:00\u001b[0m\n",
            "\u001b[2K     \u001b[90m━━━━━━━━━━━━━━━━━━━━━━━━━━━━━━━━━━━━━━\u001b[0m \u001b[32m485.6/485.6 kB\u001b[0m \u001b[31m29.3 MB/s\u001b[0m eta \u001b[36m0:00:00\u001b[0m\n",
            "\u001b[?25h"
          ]
        }
      ]
    },
    {
      "cell_type": "code",
      "source": [
        "from IPython.display import Audio\n",
        "\n",
        "import torchaudio\n",
        "\n",
        "from speechbrain.pretrained import Tacotron2\n",
        "from speechbrain.pretrained import HIFIGAN"
      ],
      "metadata": {
        "id": "G0yuienSs0hP"
      },
      "execution_count": 4,
      "outputs": []
    },
    {
      "cell_type": "markdown",
      "source": [
        "# Perform Text-to-speech (TTS)"
      ],
      "metadata": {
        "id": "cOpTn5N3xZM6"
      }
    },
    {
      "cell_type": "code",
      "source": [
        "# Initialize TTS (tacotron2) and Vocoder (HiFIGAN)\n",
        "tacotron2 = Tacotron2.from_hparams(source = \"speechbrain/tts-tacotron2-ljspeech\", savedir = \"tmpdir_tts\")\n",
        "hifi_gan = HIFIGAN.from_hparams(source = \"speechbrain/tts-hifigan-ljspeech\", savedir = \"tmpdir_vocoder\")"
      ],
      "metadata": {
        "colab": {
          "base_uri": "https://localhost:8080/",
          "height": 145,
          "referenced_widgets": [
            "a039bd442dc74618aa18dd5743659c7c",
            "0517d5036b72417ab8f9b18b618984b3",
            "60d4fb07064f439895612ed74648a9ac",
            "ae2710819dec45fe82896bf526efd1b8",
            "9d8019a259ee4451a4a742a4977d600c",
            "295a04efcc3e4042bb7011591a1584e0",
            "80eb77536da746848c6c7908f123ed64",
            "b14b07c02f1442659a282821f80a99b6",
            "3617ba41ed974dd9af96aa6421f3f9d4",
            "bc3ebbe32dd24b9bbc46eb79165678de",
            "5f79e45e2ed74389958d441f83074673",
            "7788e10fcdb74ed9a802ecf585d73829",
            "f3aa02e908d74b42aa9021c43c4d44e2",
            "d16d91e7bbf54ece8e131ec9f737bb91",
            "36eedf787ab1405cb61d39a9cbd98869",
            "77cdce5ffa264b7c9e68b5fd09a24562",
            "8fd49487a60141c49cb4bf89523169e4",
            "f8c211616b274b65ae8f4509fd94f76a",
            "a739c6e37a9a40ffbd933d33b1ffc52b",
            "dac18d84a8764f1ea9389ac9d3918489",
            "1173d9c7715b4f1b987c13367df9a0f0",
            "50f2ee2ddb8d44d8abfd15dd3f5b20e1",
            "81812c2af2f14a30b5dae89e74b2e2d9",
            "3d0d464b6ee543c1a534a8d594511d50",
            "dfbd0823a6774976b5834245ae3c6164",
            "9c9b2ba5cb00471ab70ba7c27d6a4218",
            "ccb612ae12d94f62826f10960b6268a8",
            "4fb31e858651470385435db1bd33c213",
            "5f6a74bfc5ff43d39c31787dac3ef3b8",
            "b88b2af76e61484ab5b646919b85cd89",
            "5c0d05358b494ef1affc58c4e0aa9667",
            "e8f916aa1292466fa090415764d9a185",
            "0619ea6a4e924539a1e3d8e203386fae",
            "b11361fb4f0c4aef8b91135ea4411dc5",
            "453ab75a9db548e69fe5eae281e24eff",
            "9bef195ce1b344be817168d4b6e5d416",
            "445f4592ecd14293983c551ad725806a",
            "7ef07db03b8e4a2db8c26a248dc84838",
            "be337c250a924d23937cb3ccbf2c3234",
            "9e3424fc283a4669ada7168503aed8c0",
            "4000a1c1324340f28a19c4bc237bb6b8",
            "299f982eb9cc46d389c36063f4aab8ad",
            "6eb56a01da684f228eea4b116e92f9ea",
            "300a82bab29041568d8c9ea6b547cfa3"
          ]
        },
        "id": "uuOSj6ZQxUXG",
        "outputId": "c2ec35df-2496-4fa5-fe0a-8874ecaecfcf"
      },
      "execution_count": 5,
      "outputs": [
        {
          "output_type": "display_data",
          "data": {
            "text/plain": [
              "Downloading (…)ain/hyperparams.yaml:   0%|          | 0.00/2.20k [00:00<?, ?B/s]"
            ],
            "application/vnd.jupyter.widget-view+json": {
              "version_major": 2,
              "version_minor": 0,
              "model_id": "a039bd442dc74618aa18dd5743659c7c"
            }
          },
          "metadata": {}
        },
        {
          "output_type": "display_data",
          "data": {
            "text/plain": [
              "Downloading model.ckpt:   0%|          | 0.00/113M [00:00<?, ?B/s]"
            ],
            "application/vnd.jupyter.widget-view+json": {
              "version_major": 2,
              "version_minor": 0,
              "model_id": "7788e10fcdb74ed9a802ecf585d73829"
            }
          },
          "metadata": {}
        },
        {
          "output_type": "display_data",
          "data": {
            "text/plain": [
              "Downloading (…)ain/hyperparams.yaml:   0%|          | 0.00/1.16k [00:00<?, ?B/s]"
            ],
            "application/vnd.jupyter.widget-view+json": {
              "version_major": 2,
              "version_minor": 0,
              "model_id": "81812c2af2f14a30b5dae89e74b2e2d9"
            }
          },
          "metadata": {}
        },
        {
          "output_type": "display_data",
          "data": {
            "text/plain": [
              "Downloading generator.ckpt:   0%|          | 0.00/55.8M [00:00<?, ?B/s]"
            ],
            "application/vnd.jupyter.widget-view+json": {
              "version_major": 2,
              "version_minor": 0,
              "model_id": "b11361fb4f0c4aef8b91135ea4411dc5"
            }
          },
          "metadata": {}
        }
      ]
    },
    {
      "cell_type": "code",
      "source": [
        "# Running The TTS\n",
        "mel_output, mel_length, alignment = tacotron2.encode_text(\"Mary had a little lamb\")"
      ],
      "metadata": {
        "id": "I-Hkuq20yEi6"
      },
      "execution_count": 6,
      "outputs": []
    },
    {
      "cell_type": "code",
      "source": [
        "# Running Vocoder (spectrogram-to-waveform)\n",
        "waveforms = hifi_gan.decode_batch(mel_output)"
      ],
      "metadata": {
        "id": "bCskaVV4ySPQ"
      },
      "execution_count": 7,
      "outputs": []
    },
    {
      "cell_type": "code",
      "source": [
        "# Save The Waverform\n",
        "torchaudio.save(\"mary.wav\", waveforms.squeeze(1), 16_000)"
      ],
      "metadata": {
        "id": "FSeTeDjtyYnu"
      },
      "execution_count": 8,
      "outputs": []
    },
    {
      "cell_type": "code",
      "source": [
        "# Show The Waveform\n",
        "Audio(\"mary.wav\")"
      ],
      "metadata": {
        "colab": {
          "base_uri": "https://localhost:8080/",
          "height": 61
        },
        "id": "BwaL6ikpy3a9",
        "outputId": "6954dfe0-d753-40a4-dc09-70f718cbd4c2"
      },
      "execution_count": 9,
      "outputs": [
        {
          "output_type": "execute_result",
          "data": {
            "text/plain": [
              "<IPython.lib.display.Audio object>"
            ],
            "text/html": [
              "\n",
              "                <audio  controls=\"controls\" >\n",
              "                    <source src=\"data:audio/x-wav;base64,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\" type=\"audio/x-wav\" />\n",
              "                    Your browser does not support the audio element.\n",
              "                </audio>\n",
              "              "
            ]
          },
          "metadata": {},
          "execution_count": 9
        }
      ]
    },
    {
      "cell_type": "markdown",
      "source": [
        "# Resources And Notes"
      ],
      "metadata": {
        "id": "orWifQK5z_st"
      }
    },
    {
      "cell_type": "markdown",
      "source": [
        "## SpeechBrain\n",
        "*`SpeechBrain` is an open-source and all-in-one conversational AI toolkit based on PyTorch.*\n",
        "\n",
        "It is designed to make the research and development of speech technology easier. SpeechBrain provides a wide range of tools and resources for a variety of speech processing tasks, including:\n",
        "\n",
        "1. Speech recognition\n",
        "2. Text-to-speech\n",
        "3. Speaker recognition\n",
        "4. Speech enhancement\n",
        "5. Speech separation\n",
        "6. Spoken language understanding\n",
        "7. Language identification\n",
        "8. Emotion recognition\n",
        "9. Voice activity detection\n",
        "10. Sound classification\n",
        "11. Grapheme-to-phoneme\n",
        "\n",
        "### Necessary Links\n",
        "**🗣️ SpeechBrain**: [`🌐 Official Website`](https://speechbrain.github.io/) | [`🤗 Hugging Face`](https://huggingface.co/speechbrain)\n",
        "\n",
        "**🔉 Torchaudio**: [`📘 Documentation`](https://pytorch.org/audio/stable/index.html)"
      ],
      "metadata": {
        "id": "bg4KR-pB0JW3"
      }
    },
    {
      "cell_type": "markdown",
      "source": [
        "## Text-to-speech Models\n",
        "1. [`🤗 Hugging Face Models`](https://huggingface.co/models?pipeline_tag=text-to-speech&sort=trending)"
      ],
      "metadata": {
        "id": "CRq6AMFK2mua"
      }
    },
    {
      "cell_type": "markdown",
      "source": [
        "*In This Notebook...*\n",
        "\n",
        "Used Model: [`Text-to-Speech (TTS) with Tacotron2 trained on LJSpeech`](https://huggingface.co/speechbrain/tts-tacotron2-ljspeech)\n",
        "\n",
        "Used Vocoder: [`Vocoder with HiFIGAN trained on LJSpeech`](https://huggingface.co/speechbrain/tts-hifigan-ljspeech)"
      ],
      "metadata": {
        "id": "NnCm7C-I2-bo"
      }
    }
  ]
}