{
  "nbformat": 4,
  "nbformat_minor": 0,
  "metadata": {
    "colab": {
      "provenance": [],
      "toc_visible": true,
      "authorship_tag": "ABX9TyPhXhZxcZK8X/atvmgdzP7S",
      "include_colab_link": true
    },
    "kernelspec": {
      "name": "python3",
      "display_name": "Python 3"
    },
    "language_info": {
      "name": "python"
    },
    "widgets": {
      "application/vnd.jupyter.widget-state+json": {
        "fdacd3bc918c43a1bf9805c953545a97": {
          "model_module": "@jupyter-widgets/controls",
          "model_name": "HBoxModel",
          "model_module_version": "1.5.0",
          "state": {
            "_dom_classes": [],
            "_model_module": "@jupyter-widgets/controls",
            "_model_module_version": "1.5.0",
            "_model_name": "HBoxModel",
            "_view_count": null,
            "_view_module": "@jupyter-widgets/controls",
            "_view_module_version": "1.5.0",
            "_view_name": "HBoxView",
            "box_style": "",
            "children": [
              "IPY_MODEL_6fbe777ffa6f49efb94c1356f2f8bcf5",
              "IPY_MODEL_998c615f42f14c2ebb028bc4daf437f4",
              "IPY_MODEL_146797790b044318978cbcf4c02aadcf"
            ],
            "layout": "IPY_MODEL_fb7b48ef351149fbbb89d3e85c1bbd79"
          }
        },
        "6fbe777ffa6f49efb94c1356f2f8bcf5": {
          "model_module": "@jupyter-widgets/controls",
          "model_name": "HTMLModel",
          "model_module_version": "1.5.0",
          "state": {
            "_dom_classes": [],
            "_model_module": "@jupyter-widgets/controls",
            "_model_module_version": "1.5.0",
            "_model_name": "HTMLModel",
            "_view_count": null,
            "_view_module": "@jupyter-widgets/controls",
            "_view_module_version": "1.5.0",
            "_view_name": "HTMLView",
            "description": "",
            "description_tooltip": null,
            "layout": "IPY_MODEL_25c94abb35ad4541a5702f2f9562d5f6",
            "placeholder": "​",
            "style": "IPY_MODEL_7d9d048f40b2439b89b9419d90f46ea1",
            "value": "Downloading (…)ain/hyperparams.yaml: 100%"
          }
        },
        "998c615f42f14c2ebb028bc4daf437f4": {
          "model_module": "@jupyter-widgets/controls",
          "model_name": "FloatProgressModel",
          "model_module_version": "1.5.0",
          "state": {
            "_dom_classes": [],
            "_model_module": "@jupyter-widgets/controls",
            "_model_module_version": "1.5.0",
            "_model_name": "FloatProgressModel",
            "_view_count": null,
            "_view_module": "@jupyter-widgets/controls",
            "_view_module_version": "1.5.0",
            "_view_name": "ProgressView",
            "bar_style": "success",
            "description": "",
            "description_tooltip": null,
            "layout": "IPY_MODEL_7bc73ffa86db4a24a93443f7046ff5f5",
            "max": 2199,
            "min": 0,
            "orientation": "horizontal",
            "style": "IPY_MODEL_bc625d9a0c1c4fb28e38c4497d8e3f77",
            "value": 2199
          }
        },
        "146797790b044318978cbcf4c02aadcf": {
          "model_module": "@jupyter-widgets/controls",
          "model_name": "HTMLModel",
          "model_module_version": "1.5.0",
          "state": {
            "_dom_classes": [],
            "_model_module": "@jupyter-widgets/controls",
            "_model_module_version": "1.5.0",
            "_model_name": "HTMLModel",
            "_view_count": null,
            "_view_module": "@jupyter-widgets/controls",
            "_view_module_version": "1.5.0",
            "_view_name": "HTMLView",
            "description": "",
            "description_tooltip": null,
            "layout": "IPY_MODEL_ff5cf240fe6d4e4c9c010bfeb1b58443",
            "placeholder": "​",
            "style": "IPY_MODEL_4bd823031b9d43bfa752c7ebbe71ead6",
            "value": " 2.20k/2.20k [00:00&lt;00:00, 87.7kB/s]"
          }
        },
        "fb7b48ef351149fbbb89d3e85c1bbd79": {
          "model_module": "@jupyter-widgets/base",
          "model_name": "LayoutModel",
          "model_module_version": "1.2.0",
          "state": {
            "_model_module": "@jupyter-widgets/base",
            "_model_module_version": "1.2.0",
            "_model_name": "LayoutModel",
            "_view_count": null,
            "_view_module": "@jupyter-widgets/base",
            "_view_module_version": "1.2.0",
            "_view_name": "LayoutView",
            "align_content": null,
            "align_items": null,
            "align_self": null,
            "border": null,
            "bottom": null,
            "display": null,
            "flex": null,
            "flex_flow": null,
            "grid_area": null,
            "grid_auto_columns": null,
            "grid_auto_flow": null,
            "grid_auto_rows": null,
            "grid_column": null,
            "grid_gap": null,
            "grid_row": null,
            "grid_template_areas": null,
            "grid_template_columns": null,
            "grid_template_rows": null,
            "height": null,
            "justify_content": null,
            "justify_items": null,
            "left": null,
            "margin": null,
            "max_height": null,
            "max_width": null,
            "min_height": null,
            "min_width": null,
            "object_fit": null,
            "object_position": null,
            "order": null,
            "overflow": null,
            "overflow_x": null,
            "overflow_y": null,
            "padding": null,
            "right": null,
            "top": null,
            "visibility": null,
            "width": null
          }
        },
        "25c94abb35ad4541a5702f2f9562d5f6": {
          "model_module": "@jupyter-widgets/base",
          "model_name": "LayoutModel",
          "model_module_version": "1.2.0",
          "state": {
            "_model_module": "@jupyter-widgets/base",
            "_model_module_version": "1.2.0",
            "_model_name": "LayoutModel",
            "_view_count": null,
            "_view_module": "@jupyter-widgets/base",
            "_view_module_version": "1.2.0",
            "_view_name": "LayoutView",
            "align_content": null,
            "align_items": null,
            "align_self": null,
            "border": null,
            "bottom": null,
            "display": null,
            "flex": null,
            "flex_flow": null,
            "grid_area": null,
            "grid_auto_columns": null,
            "grid_auto_flow": null,
            "grid_auto_rows": null,
            "grid_column": null,
            "grid_gap": null,
            "grid_row": null,
            "grid_template_areas": null,
            "grid_template_columns": null,
            "grid_template_rows": null,
            "height": null,
            "justify_content": null,
            "justify_items": null,
            "left": null,
            "margin": null,
            "max_height": null,
            "max_width": null,
            "min_height": null,
            "min_width": null,
            "object_fit": null,
            "object_position": null,
            "order": null,
            "overflow": null,
            "overflow_x": null,
            "overflow_y": null,
            "padding": null,
            "right": null,
            "top": null,
            "visibility": null,
            "width": null
          }
        },
        "7d9d048f40b2439b89b9419d90f46ea1": {
          "model_module": "@jupyter-widgets/controls",
          "model_name": "DescriptionStyleModel",
          "model_module_version": "1.5.0",
          "state": {
            "_model_module": "@jupyter-widgets/controls",
            "_model_module_version": "1.5.0",
            "_model_name": "DescriptionStyleModel",
            "_view_count": null,
            "_view_module": "@jupyter-widgets/base",
            "_view_module_version": "1.2.0",
            "_view_name": "StyleView",
            "description_width": ""
          }
        },
        "7bc73ffa86db4a24a93443f7046ff5f5": {
          "model_module": "@jupyter-widgets/base",
          "model_name": "LayoutModel",
          "model_module_version": "1.2.0",
          "state": {
            "_model_module": "@jupyter-widgets/base",
            "_model_module_version": "1.2.0",
            "_model_name": "LayoutModel",
            "_view_count": null,
            "_view_module": "@jupyter-widgets/base",
            "_view_module_version": "1.2.0",
            "_view_name": "LayoutView",
            "align_content": null,
            "align_items": null,
            "align_self": null,
            "border": null,
            "bottom": null,
            "display": null,
            "flex": null,
            "flex_flow": null,
            "grid_area": null,
            "grid_auto_columns": null,
            "grid_auto_flow": null,
            "grid_auto_rows": null,
            "grid_column": null,
            "grid_gap": null,
            "grid_row": null,
            "grid_template_areas": null,
            "grid_template_columns": null,
            "grid_template_rows": null,
            "height": null,
            "justify_content": null,
            "justify_items": null,
            "left": null,
            "margin": null,
            "max_height": null,
            "max_width": null,
            "min_height": null,
            "min_width": null,
            "object_fit": null,
            "object_position": null,
            "order": null,
            "overflow": null,
            "overflow_x": null,
            "overflow_y": null,
            "padding": null,
            "right": null,
            "top": null,
            "visibility": null,
            "width": null
          }
        },
        "bc625d9a0c1c4fb28e38c4497d8e3f77": {
          "model_module": "@jupyter-widgets/controls",
          "model_name": "ProgressStyleModel",
          "model_module_version": "1.5.0",
          "state": {
            "_model_module": "@jupyter-widgets/controls",
            "_model_module_version": "1.5.0",
            "_model_name": "ProgressStyleModel",
            "_view_count": null,
            "_view_module": "@jupyter-widgets/base",
            "_view_module_version": "1.2.0",
            "_view_name": "StyleView",
            "bar_color": null,
            "description_width": ""
          }
        },
        "ff5cf240fe6d4e4c9c010bfeb1b58443": {
          "model_module": "@jupyter-widgets/base",
          "model_name": "LayoutModel",
          "model_module_version": "1.2.0",
          "state": {
            "_model_module": "@jupyter-widgets/base",
            "_model_module_version": "1.2.0",
            "_model_name": "LayoutModel",
            "_view_count": null,
            "_view_module": "@jupyter-widgets/base",
            "_view_module_version": "1.2.0",
            "_view_name": "LayoutView",
            "align_content": null,
            "align_items": null,
            "align_self": null,
            "border": null,
            "bottom": null,
            "display": null,
            "flex": null,
            "flex_flow": null,
            "grid_area": null,
            "grid_auto_columns": null,
            "grid_auto_flow": null,
            "grid_auto_rows": null,
            "grid_column": null,
            "grid_gap": null,
            "grid_row": null,
            "grid_template_areas": null,
            "grid_template_columns": null,
            "grid_template_rows": null,
            "height": null,
            "justify_content": null,
            "justify_items": null,
            "left": null,
            "margin": null,
            "max_height": null,
            "max_width": null,
            "min_height": null,
            "min_width": null,
            "object_fit": null,
            "object_position": null,
            "order": null,
            "overflow": null,
            "overflow_x": null,
            "overflow_y": null,
            "padding": null,
            "right": null,
            "top": null,
            "visibility": null,
            "width": null
          }
        },
        "4bd823031b9d43bfa752c7ebbe71ead6": {
          "model_module": "@jupyter-widgets/controls",
          "model_name": "DescriptionStyleModel",
          "model_module_version": "1.5.0",
          "state": {
            "_model_module": "@jupyter-widgets/controls",
            "_model_module_version": "1.5.0",
            "_model_name": "DescriptionStyleModel",
            "_view_count": null,
            "_view_module": "@jupyter-widgets/base",
            "_view_module_version": "1.2.0",
            "_view_name": "StyleView",
            "description_width": ""
          }
        },
        "a5e2a97c707a4701abd4a45764570866": {
          "model_module": "@jupyter-widgets/controls",
          "model_name": "HBoxModel",
          "model_module_version": "1.5.0",
          "state": {
            "_dom_classes": [],
            "_model_module": "@jupyter-widgets/controls",
            "_model_module_version": "1.5.0",
            "_model_name": "HBoxModel",
            "_view_count": null,
            "_view_module": "@jupyter-widgets/controls",
            "_view_module_version": "1.5.0",
            "_view_name": "HBoxView",
            "box_style": "",
            "children": [
              "IPY_MODEL_6ae7d61af14d478e942731cb3daf6e97",
              "IPY_MODEL_6465df9ed8c64704864d0bfcdc6d0737",
              "IPY_MODEL_54ffe3fe938a42b6aae38d0abde2d333"
            ],
            "layout": "IPY_MODEL_f7c6f706a0c34b04ad2bcfc994435498"
          }
        },
        "6ae7d61af14d478e942731cb3daf6e97": {
          "model_module": "@jupyter-widgets/controls",
          "model_name": "HTMLModel",
          "model_module_version": "1.5.0",
          "state": {
            "_dom_classes": [],
            "_model_module": "@jupyter-widgets/controls",
            "_model_module_version": "1.5.0",
            "_model_name": "HTMLModel",
            "_view_count": null,
            "_view_module": "@jupyter-widgets/controls",
            "_view_module_version": "1.5.0",
            "_view_name": "HTMLView",
            "description": "",
            "description_tooltip": null,
            "layout": "IPY_MODEL_76d2511b72c94a69b9fa130b2f793cfd",
            "placeholder": "​",
            "style": "IPY_MODEL_2fc48bf4be684506b07fb541cb6e5bc5",
            "value": "Downloading model.ckpt: 100%"
          }
        },
        "6465df9ed8c64704864d0bfcdc6d0737": {
          "model_module": "@jupyter-widgets/controls",
          "model_name": "FloatProgressModel",
          "model_module_version": "1.5.0",
          "state": {
            "_dom_classes": [],
            "_model_module": "@jupyter-widgets/controls",
            "_model_module_version": "1.5.0",
            "_model_name": "FloatProgressModel",
            "_view_count": null,
            "_view_module": "@jupyter-widgets/controls",
            "_view_module_version": "1.5.0",
            "_view_name": "ProgressView",
            "bar_style": "success",
            "description": "",
            "description_tooltip": null,
            "layout": "IPY_MODEL_34651569cb7b4483b4c7fa419eb7c359",
            "max": 112830206,
            "min": 0,
            "orientation": "horizontal",
            "style": "IPY_MODEL_fd4c0493a76f457585e50b799e64b9aa",
            "value": 112830206
          }
        },
        "54ffe3fe938a42b6aae38d0abde2d333": {
          "model_module": "@jupyter-widgets/controls",
          "model_name": "HTMLModel",
          "model_module_version": "1.5.0",
          "state": {
            "_dom_classes": [],
            "_model_module": "@jupyter-widgets/controls",
            "_model_module_version": "1.5.0",
            "_model_name": "HTMLModel",
            "_view_count": null,
            "_view_module": "@jupyter-widgets/controls",
            "_view_module_version": "1.5.0",
            "_view_name": "HTMLView",
            "description": "",
            "description_tooltip": null,
            "layout": "IPY_MODEL_cd0e3ccc681c4f8eab08eee5e62e6fc5",
            "placeholder": "​",
            "style": "IPY_MODEL_50cda1a3158142df893bcd7b5ebe13d2",
            "value": " 113M/113M [00:06&lt;00:00, 19.6MB/s]"
          }
        },
        "f7c6f706a0c34b04ad2bcfc994435498": {
          "model_module": "@jupyter-widgets/base",
          "model_name": "LayoutModel",
          "model_module_version": "1.2.0",
          "state": {
            "_model_module": "@jupyter-widgets/base",
            "_model_module_version": "1.2.0",
            "_model_name": "LayoutModel",
            "_view_count": null,
            "_view_module": "@jupyter-widgets/base",
            "_view_module_version": "1.2.0",
            "_view_name": "LayoutView",
            "align_content": null,
            "align_items": null,
            "align_self": null,
            "border": null,
            "bottom": null,
            "display": null,
            "flex": null,
            "flex_flow": null,
            "grid_area": null,
            "grid_auto_columns": null,
            "grid_auto_flow": null,
            "grid_auto_rows": null,
            "grid_column": null,
            "grid_gap": null,
            "grid_row": null,
            "grid_template_areas": null,
            "grid_template_columns": null,
            "grid_template_rows": null,
            "height": null,
            "justify_content": null,
            "justify_items": null,
            "left": null,
            "margin": null,
            "max_height": null,
            "max_width": null,
            "min_height": null,
            "min_width": null,
            "object_fit": null,
            "object_position": null,
            "order": null,
            "overflow": null,
            "overflow_x": null,
            "overflow_y": null,
            "padding": null,
            "right": null,
            "top": null,
            "visibility": null,
            "width": null
          }
        },
        "76d2511b72c94a69b9fa130b2f793cfd": {
          "model_module": "@jupyter-widgets/base",
          "model_name": "LayoutModel",
          "model_module_version": "1.2.0",
          "state": {
            "_model_module": "@jupyter-widgets/base",
            "_model_module_version": "1.2.0",
            "_model_name": "LayoutModel",
            "_view_count": null,
            "_view_module": "@jupyter-widgets/base",
            "_view_module_version": "1.2.0",
            "_view_name": "LayoutView",
            "align_content": null,
            "align_items": null,
            "align_self": null,
            "border": null,
            "bottom": null,
            "display": null,
            "flex": null,
            "flex_flow": null,
            "grid_area": null,
            "grid_auto_columns": null,
            "grid_auto_flow": null,
            "grid_auto_rows": null,
            "grid_column": null,
            "grid_gap": null,
            "grid_row": null,
            "grid_template_areas": null,
            "grid_template_columns": null,
            "grid_template_rows": null,
            "height": null,
            "justify_content": null,
            "justify_items": null,
            "left": null,
            "margin": null,
            "max_height": null,
            "max_width": null,
            "min_height": null,
            "min_width": null,
            "object_fit": null,
            "object_position": null,
            "order": null,
            "overflow": null,
            "overflow_x": null,
            "overflow_y": null,
            "padding": null,
            "right": null,
            "top": null,
            "visibility": null,
            "width": null
          }
        },
        "2fc48bf4be684506b07fb541cb6e5bc5": {
          "model_module": "@jupyter-widgets/controls",
          "model_name": "DescriptionStyleModel",
          "model_module_version": "1.5.0",
          "state": {
            "_model_module": "@jupyter-widgets/controls",
            "_model_module_version": "1.5.0",
            "_model_name": "DescriptionStyleModel",
            "_view_count": null,
            "_view_module": "@jupyter-widgets/base",
            "_view_module_version": "1.2.0",
            "_view_name": "StyleView",
            "description_width": ""
          }
        },
        "34651569cb7b4483b4c7fa419eb7c359": {
          "model_module": "@jupyter-widgets/base",
          "model_name": "LayoutModel",
          "model_module_version": "1.2.0",
          "state": {
            "_model_module": "@jupyter-widgets/base",
            "_model_module_version": "1.2.0",
            "_model_name": "LayoutModel",
            "_view_count": null,
            "_view_module": "@jupyter-widgets/base",
            "_view_module_version": "1.2.0",
            "_view_name": "LayoutView",
            "align_content": null,
            "align_items": null,
            "align_self": null,
            "border": null,
            "bottom": null,
            "display": null,
            "flex": null,
            "flex_flow": null,
            "grid_area": null,
            "grid_auto_columns": null,
            "grid_auto_flow": null,
            "grid_auto_rows": null,
            "grid_column": null,
            "grid_gap": null,
            "grid_row": null,
            "grid_template_areas": null,
            "grid_template_columns": null,
            "grid_template_rows": null,
            "height": null,
            "justify_content": null,
            "justify_items": null,
            "left": null,
            "margin": null,
            "max_height": null,
            "max_width": null,
            "min_height": null,
            "min_width": null,
            "object_fit": null,
            "object_position": null,
            "order": null,
            "overflow": null,
            "overflow_x": null,
            "overflow_y": null,
            "padding": null,
            "right": null,
            "top": null,
            "visibility": null,
            "width": null
          }
        },
        "fd4c0493a76f457585e50b799e64b9aa": {
          "model_module": "@jupyter-widgets/controls",
          "model_name": "ProgressStyleModel",
          "model_module_version": "1.5.0",
          "state": {
            "_model_module": "@jupyter-widgets/controls",
            "_model_module_version": "1.5.0",
            "_model_name": "ProgressStyleModel",
            "_view_count": null,
            "_view_module": "@jupyter-widgets/base",
            "_view_module_version": "1.2.0",
            "_view_name": "StyleView",
            "bar_color": null,
            "description_width": ""
          }
        },
        "cd0e3ccc681c4f8eab08eee5e62e6fc5": {
          "model_module": "@jupyter-widgets/base",
          "model_name": "LayoutModel",
          "model_module_version": "1.2.0",
          "state": {
            "_model_module": "@jupyter-widgets/base",
            "_model_module_version": "1.2.0",
            "_model_name": "LayoutModel",
            "_view_count": null,
            "_view_module": "@jupyter-widgets/base",
            "_view_module_version": "1.2.0",
            "_view_name": "LayoutView",
            "align_content": null,
            "align_items": null,
            "align_self": null,
            "border": null,
            "bottom": null,
            "display": null,
            "flex": null,
            "flex_flow": null,
            "grid_area": null,
            "grid_auto_columns": null,
            "grid_auto_flow": null,
            "grid_auto_rows": null,
            "grid_column": null,
            "grid_gap": null,
            "grid_row": null,
            "grid_template_areas": null,
            "grid_template_columns": null,
            "grid_template_rows": null,
            "height": null,
            "justify_content": null,
            "justify_items": null,
            "left": null,
            "margin": null,
            "max_height": null,
            "max_width": null,
            "min_height": null,
            "min_width": null,
            "object_fit": null,
            "object_position": null,
            "order": null,
            "overflow": null,
            "overflow_x": null,
            "overflow_y": null,
            "padding": null,
            "right": null,
            "top": null,
            "visibility": null,
            "width": null
          }
        },
        "50cda1a3158142df893bcd7b5ebe13d2": {
          "model_module": "@jupyter-widgets/controls",
          "model_name": "DescriptionStyleModel",
          "model_module_version": "1.5.0",
          "state": {
            "_model_module": "@jupyter-widgets/controls",
            "_model_module_version": "1.5.0",
            "_model_name": "DescriptionStyleModel",
            "_view_count": null,
            "_view_module": "@jupyter-widgets/base",
            "_view_module_version": "1.2.0",
            "_view_name": "StyleView",
            "description_width": ""
          }
        },
        "242062895cc64db19135be572a4a9b73": {
          "model_module": "@jupyter-widgets/controls",
          "model_name": "HBoxModel",
          "model_module_version": "1.5.0",
          "state": {
            "_dom_classes": [],
            "_model_module": "@jupyter-widgets/controls",
            "_model_module_version": "1.5.0",
            "_model_name": "HBoxModel",
            "_view_count": null,
            "_view_module": "@jupyter-widgets/controls",
            "_view_module_version": "1.5.0",
            "_view_name": "HBoxView",
            "box_style": "",
            "children": [
              "IPY_MODEL_6d38086a47264295abb2aae478c702ee",
              "IPY_MODEL_73ad940b5402457ead05f2e0ed3f3afb",
              "IPY_MODEL_f524348d23004bc9912e182acf72ca47"
            ],
            "layout": "IPY_MODEL_fa307c40ef574d87a56e158a405d9f14"
          }
        },
        "6d38086a47264295abb2aae478c702ee": {
          "model_module": "@jupyter-widgets/controls",
          "model_name": "HTMLModel",
          "model_module_version": "1.5.0",
          "state": {
            "_dom_classes": [],
            "_model_module": "@jupyter-widgets/controls",
            "_model_module_version": "1.5.0",
            "_model_name": "HTMLModel",
            "_view_count": null,
            "_view_module": "@jupyter-widgets/controls",
            "_view_module_version": "1.5.0",
            "_view_name": "HTMLView",
            "description": "",
            "description_tooltip": null,
            "layout": "IPY_MODEL_68e9af80635d42d1987ef6bd0bec259b",
            "placeholder": "​",
            "style": "IPY_MODEL_ac9598e920f747588421fd40467e8176",
            "value": "Downloading (…)ain/hyperparams.yaml: 100%"
          }
        },
        "73ad940b5402457ead05f2e0ed3f3afb": {
          "model_module": "@jupyter-widgets/controls",
          "model_name": "FloatProgressModel",
          "model_module_version": "1.5.0",
          "state": {
            "_dom_classes": [],
            "_model_module": "@jupyter-widgets/controls",
            "_model_module_version": "1.5.0",
            "_model_name": "FloatProgressModel",
            "_view_count": null,
            "_view_module": "@jupyter-widgets/controls",
            "_view_module_version": "1.5.0",
            "_view_name": "ProgressView",
            "bar_style": "success",
            "description": "",
            "description_tooltip": null,
            "layout": "IPY_MODEL_aba8694541d346ee894daa6a5302e899",
            "max": 1156,
            "min": 0,
            "orientation": "horizontal",
            "style": "IPY_MODEL_ab46949dfbc24dd7bdab9a8c5c423452",
            "value": 1156
          }
        },
        "f524348d23004bc9912e182acf72ca47": {
          "model_module": "@jupyter-widgets/controls",
          "model_name": "HTMLModel",
          "model_module_version": "1.5.0",
          "state": {
            "_dom_classes": [],
            "_model_module": "@jupyter-widgets/controls",
            "_model_module_version": "1.5.0",
            "_model_name": "HTMLModel",
            "_view_count": null,
            "_view_module": "@jupyter-widgets/controls",
            "_view_module_version": "1.5.0",
            "_view_name": "HTMLView",
            "description": "",
            "description_tooltip": null,
            "layout": "IPY_MODEL_381c04fbd2c14af0bcf271c46096afa9",
            "placeholder": "​",
            "style": "IPY_MODEL_9dc46b0bd7824993b37af8ab850a2f96",
            "value": " 1.16k/1.16k [00:00&lt;00:00, 44.0kB/s]"
          }
        },
        "fa307c40ef574d87a56e158a405d9f14": {
          "model_module": "@jupyter-widgets/base",
          "model_name": "LayoutModel",
          "model_module_version": "1.2.0",
          "state": {
            "_model_module": "@jupyter-widgets/base",
            "_model_module_version": "1.2.0",
            "_model_name": "LayoutModel",
            "_view_count": null,
            "_view_module": "@jupyter-widgets/base",
            "_view_module_version": "1.2.0",
            "_view_name": "LayoutView",
            "align_content": null,
            "align_items": null,
            "align_self": null,
            "border": null,
            "bottom": null,
            "display": null,
            "flex": null,
            "flex_flow": null,
            "grid_area": null,
            "grid_auto_columns": null,
            "grid_auto_flow": null,
            "grid_auto_rows": null,
            "grid_column": null,
            "grid_gap": null,
            "grid_row": null,
            "grid_template_areas": null,
            "grid_template_columns": null,
            "grid_template_rows": null,
            "height": null,
            "justify_content": null,
            "justify_items": null,
            "left": null,
            "margin": null,
            "max_height": null,
            "max_width": null,
            "min_height": null,
            "min_width": null,
            "object_fit": null,
            "object_position": null,
            "order": null,
            "overflow": null,
            "overflow_x": null,
            "overflow_y": null,
            "padding": null,
            "right": null,
            "top": null,
            "visibility": null,
            "width": null
          }
        },
        "68e9af80635d42d1987ef6bd0bec259b": {
          "model_module": "@jupyter-widgets/base",
          "model_name": "LayoutModel",
          "model_module_version": "1.2.0",
          "state": {
            "_model_module": "@jupyter-widgets/base",
            "_model_module_version": "1.2.0",
            "_model_name": "LayoutModel",
            "_view_count": null,
            "_view_module": "@jupyter-widgets/base",
            "_view_module_version": "1.2.0",
            "_view_name": "LayoutView",
            "align_content": null,
            "align_items": null,
            "align_self": null,
            "border": null,
            "bottom": null,
            "display": null,
            "flex": null,
            "flex_flow": null,
            "grid_area": null,
            "grid_auto_columns": null,
            "grid_auto_flow": null,
            "grid_auto_rows": null,
            "grid_column": null,
            "grid_gap": null,
            "grid_row": null,
            "grid_template_areas": null,
            "grid_template_columns": null,
            "grid_template_rows": null,
            "height": null,
            "justify_content": null,
            "justify_items": null,
            "left": null,
            "margin": null,
            "max_height": null,
            "max_width": null,
            "min_height": null,
            "min_width": null,
            "object_fit": null,
            "object_position": null,
            "order": null,
            "overflow": null,
            "overflow_x": null,
            "overflow_y": null,
            "padding": null,
            "right": null,
            "top": null,
            "visibility": null,
            "width": null
          }
        },
        "ac9598e920f747588421fd40467e8176": {
          "model_module": "@jupyter-widgets/controls",
          "model_name": "DescriptionStyleModel",
          "model_module_version": "1.5.0",
          "state": {
            "_model_module": "@jupyter-widgets/controls",
            "_model_module_version": "1.5.0",
            "_model_name": "DescriptionStyleModel",
            "_view_count": null,
            "_view_module": "@jupyter-widgets/base",
            "_view_module_version": "1.2.0",
            "_view_name": "StyleView",
            "description_width": ""
          }
        },
        "aba8694541d346ee894daa6a5302e899": {
          "model_module": "@jupyter-widgets/base",
          "model_name": "LayoutModel",
          "model_module_version": "1.2.0",
          "state": {
            "_model_module": "@jupyter-widgets/base",
            "_model_module_version": "1.2.0",
            "_model_name": "LayoutModel",
            "_view_count": null,
            "_view_module": "@jupyter-widgets/base",
            "_view_module_version": "1.2.0",
            "_view_name": "LayoutView",
            "align_content": null,
            "align_items": null,
            "align_self": null,
            "border": null,
            "bottom": null,
            "display": null,
            "flex": null,
            "flex_flow": null,
            "grid_area": null,
            "grid_auto_columns": null,
            "grid_auto_flow": null,
            "grid_auto_rows": null,
            "grid_column": null,
            "grid_gap": null,
            "grid_row": null,
            "grid_template_areas": null,
            "grid_template_columns": null,
            "grid_template_rows": null,
            "height": null,
            "justify_content": null,
            "justify_items": null,
            "left": null,
            "margin": null,
            "max_height": null,
            "max_width": null,
            "min_height": null,
            "min_width": null,
            "object_fit": null,
            "object_position": null,
            "order": null,
            "overflow": null,
            "overflow_x": null,
            "overflow_y": null,
            "padding": null,
            "right": null,
            "top": null,
            "visibility": null,
            "width": null
          }
        },
        "ab46949dfbc24dd7bdab9a8c5c423452": {
          "model_module": "@jupyter-widgets/controls",
          "model_name": "ProgressStyleModel",
          "model_module_version": "1.5.0",
          "state": {
            "_model_module": "@jupyter-widgets/controls",
            "_model_module_version": "1.5.0",
            "_model_name": "ProgressStyleModel",
            "_view_count": null,
            "_view_module": "@jupyter-widgets/base",
            "_view_module_version": "1.2.0",
            "_view_name": "StyleView",
            "bar_color": null,
            "description_width": ""
          }
        },
        "381c04fbd2c14af0bcf271c46096afa9": {
          "model_module": "@jupyter-widgets/base",
          "model_name": "LayoutModel",
          "model_module_version": "1.2.0",
          "state": {
            "_model_module": "@jupyter-widgets/base",
            "_model_module_version": "1.2.0",
            "_model_name": "LayoutModel",
            "_view_count": null,
            "_view_module": "@jupyter-widgets/base",
            "_view_module_version": "1.2.0",
            "_view_name": "LayoutView",
            "align_content": null,
            "align_items": null,
            "align_self": null,
            "border": null,
            "bottom": null,
            "display": null,
            "flex": null,
            "flex_flow": null,
            "grid_area": null,
            "grid_auto_columns": null,
            "grid_auto_flow": null,
            "grid_auto_rows": null,
            "grid_column": null,
            "grid_gap": null,
            "grid_row": null,
            "grid_template_areas": null,
            "grid_template_columns": null,
            "grid_template_rows": null,
            "height": null,
            "justify_content": null,
            "justify_items": null,
            "left": null,
            "margin": null,
            "max_height": null,
            "max_width": null,
            "min_height": null,
            "min_width": null,
            "object_fit": null,
            "object_position": null,
            "order": null,
            "overflow": null,
            "overflow_x": null,
            "overflow_y": null,
            "padding": null,
            "right": null,
            "top": null,
            "visibility": null,
            "width": null
          }
        },
        "9dc46b0bd7824993b37af8ab850a2f96": {
          "model_module": "@jupyter-widgets/controls",
          "model_name": "DescriptionStyleModel",
          "model_module_version": "1.5.0",
          "state": {
            "_model_module": "@jupyter-widgets/controls",
            "_model_module_version": "1.5.0",
            "_model_name": "DescriptionStyleModel",
            "_view_count": null,
            "_view_module": "@jupyter-widgets/base",
            "_view_module_version": "1.2.0",
            "_view_name": "StyleView",
            "description_width": ""
          }
        },
        "1adc4802f5324a848d8e15bb3fad630e": {
          "model_module": "@jupyter-widgets/controls",
          "model_name": "HBoxModel",
          "model_module_version": "1.5.0",
          "state": {
            "_dom_classes": [],
            "_model_module": "@jupyter-widgets/controls",
            "_model_module_version": "1.5.0",
            "_model_name": "HBoxModel",
            "_view_count": null,
            "_view_module": "@jupyter-widgets/controls",
            "_view_module_version": "1.5.0",
            "_view_name": "HBoxView",
            "box_style": "",
            "children": [
              "IPY_MODEL_de91b95db84d4b588fac29c0593010d3",
              "IPY_MODEL_1e0e1bf698b840ba85333c189740a5c8",
              "IPY_MODEL_5586c85150e04087a50d2f579c0dcc81"
            ],
            "layout": "IPY_MODEL_ac093143f8634b7181e6fce7b1a2c6f8"
          }
        },
        "de91b95db84d4b588fac29c0593010d3": {
          "model_module": "@jupyter-widgets/controls",
          "model_name": "HTMLModel",
          "model_module_version": "1.5.0",
          "state": {
            "_dom_classes": [],
            "_model_module": "@jupyter-widgets/controls",
            "_model_module_version": "1.5.0",
            "_model_name": "HTMLModel",
            "_view_count": null,
            "_view_module": "@jupyter-widgets/controls",
            "_view_module_version": "1.5.0",
            "_view_name": "HTMLView",
            "description": "",
            "description_tooltip": null,
            "layout": "IPY_MODEL_d605b73461d64f1daecf4ce7ca6eed4a",
            "placeholder": "​",
            "style": "IPY_MODEL_42d6323aebc4491d9f4930dd1236b360",
            "value": "Downloading generator.ckpt: 100%"
          }
        },
        "1e0e1bf698b840ba85333c189740a5c8": {
          "model_module": "@jupyter-widgets/controls",
          "model_name": "FloatProgressModel",
          "model_module_version": "1.5.0",
          "state": {
            "_dom_classes": [],
            "_model_module": "@jupyter-widgets/controls",
            "_model_module_version": "1.5.0",
            "_model_name": "FloatProgressModel",
            "_view_count": null,
            "_view_module": "@jupyter-widgets/controls",
            "_view_module_version": "1.5.0",
            "_view_name": "ProgressView",
            "bar_style": "success",
            "description": "",
            "description_tooltip": null,
            "layout": "IPY_MODEL_c4e8d583d8244d0dabb5f7dfb28397e4",
            "max": 55828077,
            "min": 0,
            "orientation": "horizontal",
            "style": "IPY_MODEL_cdf717357b8048f7a22b7b5fc87f7043",
            "value": 55828077
          }
        },
        "5586c85150e04087a50d2f579c0dcc81": {
          "model_module": "@jupyter-widgets/controls",
          "model_name": "HTMLModel",
          "model_module_version": "1.5.0",
          "state": {
            "_dom_classes": [],
            "_model_module": "@jupyter-widgets/controls",
            "_model_module_version": "1.5.0",
            "_model_name": "HTMLModel",
            "_view_count": null,
            "_view_module": "@jupyter-widgets/controls",
            "_view_module_version": "1.5.0",
            "_view_name": "HTMLView",
            "description": "",
            "description_tooltip": null,
            "layout": "IPY_MODEL_f4a604fd300445e9b9a808870245b0c3",
            "placeholder": "​",
            "style": "IPY_MODEL_2893df1b1e004818a4f2b2a6ee74780d",
            "value": " 55.8M/55.8M [00:04&lt;00:00, 15.8MB/s]"
          }
        },
        "ac093143f8634b7181e6fce7b1a2c6f8": {
          "model_module": "@jupyter-widgets/base",
          "model_name": "LayoutModel",
          "model_module_version": "1.2.0",
          "state": {
            "_model_module": "@jupyter-widgets/base",
            "_model_module_version": "1.2.0",
            "_model_name": "LayoutModel",
            "_view_count": null,
            "_view_module": "@jupyter-widgets/base",
            "_view_module_version": "1.2.0",
            "_view_name": "LayoutView",
            "align_content": null,
            "align_items": null,
            "align_self": null,
            "border": null,
            "bottom": null,
            "display": null,
            "flex": null,
            "flex_flow": null,
            "grid_area": null,
            "grid_auto_columns": null,
            "grid_auto_flow": null,
            "grid_auto_rows": null,
            "grid_column": null,
            "grid_gap": null,
            "grid_row": null,
            "grid_template_areas": null,
            "grid_template_columns": null,
            "grid_template_rows": null,
            "height": null,
            "justify_content": null,
            "justify_items": null,
            "left": null,
            "margin": null,
            "max_height": null,
            "max_width": null,
            "min_height": null,
            "min_width": null,
            "object_fit": null,
            "object_position": null,
            "order": null,
            "overflow": null,
            "overflow_x": null,
            "overflow_y": null,
            "padding": null,
            "right": null,
            "top": null,
            "visibility": null,
            "width": null
          }
        },
        "d605b73461d64f1daecf4ce7ca6eed4a": {
          "model_module": "@jupyter-widgets/base",
          "model_name": "LayoutModel",
          "model_module_version": "1.2.0",
          "state": {
            "_model_module": "@jupyter-widgets/base",
            "_model_module_version": "1.2.0",
            "_model_name": "LayoutModel",
            "_view_count": null,
            "_view_module": "@jupyter-widgets/base",
            "_view_module_version": "1.2.0",
            "_view_name": "LayoutView",
            "align_content": null,
            "align_items": null,
            "align_self": null,
            "border": null,
            "bottom": null,
            "display": null,
            "flex": null,
            "flex_flow": null,
            "grid_area": null,
            "grid_auto_columns": null,
            "grid_auto_flow": null,
            "grid_auto_rows": null,
            "grid_column": null,
            "grid_gap": null,
            "grid_row": null,
            "grid_template_areas": null,
            "grid_template_columns": null,
            "grid_template_rows": null,
            "height": null,
            "justify_content": null,
            "justify_items": null,
            "left": null,
            "margin": null,
            "max_height": null,
            "max_width": null,
            "min_height": null,
            "min_width": null,
            "object_fit": null,
            "object_position": null,
            "order": null,
            "overflow": null,
            "overflow_x": null,
            "overflow_y": null,
            "padding": null,
            "right": null,
            "top": null,
            "visibility": null,
            "width": null
          }
        },
        "42d6323aebc4491d9f4930dd1236b360": {
          "model_module": "@jupyter-widgets/controls",
          "model_name": "DescriptionStyleModel",
          "model_module_version": "1.5.0",
          "state": {
            "_model_module": "@jupyter-widgets/controls",
            "_model_module_version": "1.5.0",
            "_model_name": "DescriptionStyleModel",
            "_view_count": null,
            "_view_module": "@jupyter-widgets/base",
            "_view_module_version": "1.2.0",
            "_view_name": "StyleView",
            "description_width": ""
          }
        },
        "c4e8d583d8244d0dabb5f7dfb28397e4": {
          "model_module": "@jupyter-widgets/base",
          "model_name": "LayoutModel",
          "model_module_version": "1.2.0",
          "state": {
            "_model_module": "@jupyter-widgets/base",
            "_model_module_version": "1.2.0",
            "_model_name": "LayoutModel",
            "_view_count": null,
            "_view_module": "@jupyter-widgets/base",
            "_view_module_version": "1.2.0",
            "_view_name": "LayoutView",
            "align_content": null,
            "align_items": null,
            "align_self": null,
            "border": null,
            "bottom": null,
            "display": null,
            "flex": null,
            "flex_flow": null,
            "grid_area": null,
            "grid_auto_columns": null,
            "grid_auto_flow": null,
            "grid_auto_rows": null,
            "grid_column": null,
            "grid_gap": null,
            "grid_row": null,
            "grid_template_areas": null,
            "grid_template_columns": null,
            "grid_template_rows": null,
            "height": null,
            "justify_content": null,
            "justify_items": null,
            "left": null,
            "margin": null,
            "max_height": null,
            "max_width": null,
            "min_height": null,
            "min_width": null,
            "object_fit": null,
            "object_position": null,
            "order": null,
            "overflow": null,
            "overflow_x": null,
            "overflow_y": null,
            "padding": null,
            "right": null,
            "top": null,
            "visibility": null,
            "width": null
          }
        },
        "cdf717357b8048f7a22b7b5fc87f7043": {
          "model_module": "@jupyter-widgets/controls",
          "model_name": "ProgressStyleModel",
          "model_module_version": "1.5.0",
          "state": {
            "_model_module": "@jupyter-widgets/controls",
            "_model_module_version": "1.5.0",
            "_model_name": "ProgressStyleModel",
            "_view_count": null,
            "_view_module": "@jupyter-widgets/base",
            "_view_module_version": "1.2.0",
            "_view_name": "StyleView",
            "bar_color": null,
            "description_width": ""
          }
        },
        "f4a604fd300445e9b9a808870245b0c3": {
          "model_module": "@jupyter-widgets/base",
          "model_name": "LayoutModel",
          "model_module_version": "1.2.0",
          "state": {
            "_model_module": "@jupyter-widgets/base",
            "_model_module_version": "1.2.0",
            "_model_name": "LayoutModel",
            "_view_count": null,
            "_view_module": "@jupyter-widgets/base",
            "_view_module_version": "1.2.0",
            "_view_name": "LayoutView",
            "align_content": null,
            "align_items": null,
            "align_self": null,
            "border": null,
            "bottom": null,
            "display": null,
            "flex": null,
            "flex_flow": null,
            "grid_area": null,
            "grid_auto_columns": null,
            "grid_auto_flow": null,
            "grid_auto_rows": null,
            "grid_column": null,
            "grid_gap": null,
            "grid_row": null,
            "grid_template_areas": null,
            "grid_template_columns": null,
            "grid_template_rows": null,
            "height": null,
            "justify_content": null,
            "justify_items": null,
            "left": null,
            "margin": null,
            "max_height": null,
            "max_width": null,
            "min_height": null,
            "min_width": null,
            "object_fit": null,
            "object_position": null,
            "order": null,
            "overflow": null,
            "overflow_x": null,
            "overflow_y": null,
            "padding": null,
            "right": null,
            "top": null,
            "visibility": null,
            "width": null
          }
        },
        "2893df1b1e004818a4f2b2a6ee74780d": {
          "model_module": "@jupyter-widgets/controls",
          "model_name": "DescriptionStyleModel",
          "model_module_version": "1.5.0",
          "state": {
            "_model_module": "@jupyter-widgets/controls",
            "_model_module_version": "1.5.0",
            "_model_name": "DescriptionStyleModel",
            "_view_count": null,
            "_view_module": "@jupyter-widgets/base",
            "_view_module_version": "1.2.0",
            "_view_name": "StyleView",
            "description_width": ""
          }
        }
      }
    }
  },
  "cells": [
    {
      "cell_type": "markdown",
      "metadata": {
        "id": "view-in-github",
        "colab_type": "text"
      },
      "source": [
        "<a href=\"https://colab.research.google.com/github/MYTE21/ML.Deep-Learning/blob/main/notebooks/(1)%20Text%20To%20Speech%20(TTS).ipynb\" target=\"_parent\"><img src=\"https://colab.research.google.com/assets/colab-badge.svg\" alt=\"Open In Colab\"/></a>"
      ]
    },
    {
      "cell_type": "markdown",
      "source": [
        "# Text-to-speech (TTS)\n",
        "\n",
        "*Text-to-speech (TTS) is a technology that converts text into spoken audio*"
      ],
      "metadata": {
        "id": "Om2X9i_mre37"
      }
    },
    {
      "cell_type": "markdown",
      "source": [
        "# Setting Up Necessary Things"
      ],
      "metadata": {
        "id": "bz8ViZpKsjx6"
      }
    },
    {
      "cell_type": "code",
      "source": [
        "# Jupyter Notebook Magic Command - Auto Reloading\n",
        "%reload_ext autoreload\n",
        "%autoreload 2\n",
        "\n",
        "# Jupyter Notebook Magic Command - Inline Plotting\n",
        "%matplotlib inline"
      ],
      "metadata": {
        "id": "iG6CCuBisqeJ"
      },
      "execution_count": null,
      "outputs": []
    },
    {
      "cell_type": "code",
      "execution_count": null,
      "metadata": {
        "id": "7eaNTDPArNI_"
      },
      "outputs": [],
      "source": [
        "# Ignore All Warnings\n",
        "import warnings\n",
        "warnings.filterwarnings(\"ignore\")"
      ]
    },
    {
      "cell_type": "markdown",
      "source": [
        "# Necessary Imports"
      ],
      "metadata": {
        "id": "JjWhyMTRsxRn"
      }
    },
    {
      "cell_type": "code",
      "source": [
        "# Necessary installs\n",
        "! pip install -q speechbrain"
      ],
      "metadata": {
        "colab": {
          "base_uri": "https://localhost:8080/"
        },
        "id": "2cjhPikrr8Pd",
        "outputId": "bc5618df-47bf-4266-eac9-fb536c5263b3"
      },
      "execution_count": null,
      "outputs": [
        {
          "output_type": "stream",
          "name": "stdout",
          "text": [
            "\u001b[2K     \u001b[90m━━━━━━━━━━━━━━━━━━━━━━━━━━━━━━━━━━━━━━━\u001b[0m \u001b[32m553.8/553.8 kB\u001b[0m \u001b[31m5.6 MB/s\u001b[0m eta \u001b[36m0:00:00\u001b[0m\n",
            "\u001b[2K     \u001b[90m━━━━━━━━━━━━━━━━━━━━━━━━━━━━━━━━━━━━━━━━\u001b[0m \u001b[32m1.3/1.3 MB\u001b[0m \u001b[31m10.5 MB/s\u001b[0m eta \u001b[36m0:00:00\u001b[0m\n",
            "\u001b[2K     \u001b[90m━━━━━━━━━━━━━━━━━━━━━━━━━━━━━━━━━━━━━━\u001b[0m \u001b[32m295.0/295.0 kB\u001b[0m \u001b[31m11.0 MB/s\u001b[0m eta \u001b[36m0:00:00\u001b[0m\n",
            "\u001b[2K     \u001b[90m━━━━━━━━━━━━━━━━━━━━━━━━━━━━━━━━━━━━━━\u001b[0m \u001b[32m112.3/112.3 kB\u001b[0m \u001b[31m11.8 MB/s\u001b[0m eta \u001b[36m0:00:00\u001b[0m\n",
            "\u001b[2K     \u001b[90m━━━━━━━━━━━━━━━━━━━━━━━━━━━━━━━━━━━━━━\u001b[0m \u001b[32m485.6/485.6 kB\u001b[0m \u001b[31m14.7 MB/s\u001b[0m eta \u001b[36m0:00:00\u001b[0m\n",
            "\u001b[?25h"
          ]
        }
      ]
    },
    {
      "cell_type": "code",
      "source": [
        "from IPython.display import Audio\n",
        "\n",
        "import torchaudio\n",
        "\n",
        "from speechbrain.pretrained import Tacotron2\n",
        "from speechbrain.pretrained import HIFIGAN"
      ],
      "metadata": {
        "id": "G0yuienSs0hP"
      },
      "execution_count": null,
      "outputs": []
    },
    {
      "cell_type": "markdown",
      "source": [
        "# Perform Text-to-speech (TTS)"
      ],
      "metadata": {
        "id": "cOpTn5N3xZM6"
      }
    },
    {
      "cell_type": "code",
      "source": [
        "# Initialize TTS (tacotron2) and Vocoder (HiFIGAN)\n",
        "tacotron2 = Tacotron2.from_hparams(source = \"speechbrain/tts-tacotron2-ljspeech\", savedir = \"tmpdir_tts\")\n",
        "hifi_gan = HIFIGAN.from_hparams(source = \"speechbrain/tts-hifigan-ljspeech\", savedir = \"tmpdir_vocoder\")"
      ],
      "metadata": {
        "colab": {
          "base_uri": "https://localhost:8080/",
          "height": 145,
          "referenced_widgets": [
            "fdacd3bc918c43a1bf9805c953545a97",
            "6fbe777ffa6f49efb94c1356f2f8bcf5",
            "998c615f42f14c2ebb028bc4daf437f4",
            "146797790b044318978cbcf4c02aadcf",
            "fb7b48ef351149fbbb89d3e85c1bbd79",
            "25c94abb35ad4541a5702f2f9562d5f6",
            "7d9d048f40b2439b89b9419d90f46ea1",
            "7bc73ffa86db4a24a93443f7046ff5f5",
            "bc625d9a0c1c4fb28e38c4497d8e3f77",
            "ff5cf240fe6d4e4c9c010bfeb1b58443",
            "4bd823031b9d43bfa752c7ebbe71ead6",
            "a5e2a97c707a4701abd4a45764570866",
            "6ae7d61af14d478e942731cb3daf6e97",
            "6465df9ed8c64704864d0bfcdc6d0737",
            "54ffe3fe938a42b6aae38d0abde2d333",
            "f7c6f706a0c34b04ad2bcfc994435498",
            "76d2511b72c94a69b9fa130b2f793cfd",
            "2fc48bf4be684506b07fb541cb6e5bc5",
            "34651569cb7b4483b4c7fa419eb7c359",
            "fd4c0493a76f457585e50b799e64b9aa",
            "cd0e3ccc681c4f8eab08eee5e62e6fc5",
            "50cda1a3158142df893bcd7b5ebe13d2",
            "242062895cc64db19135be572a4a9b73",
            "6d38086a47264295abb2aae478c702ee",
            "73ad940b5402457ead05f2e0ed3f3afb",
            "f524348d23004bc9912e182acf72ca47",
            "fa307c40ef574d87a56e158a405d9f14",
            "68e9af80635d42d1987ef6bd0bec259b",
            "ac9598e920f747588421fd40467e8176",
            "aba8694541d346ee894daa6a5302e899",
            "ab46949dfbc24dd7bdab9a8c5c423452",
            "381c04fbd2c14af0bcf271c46096afa9",
            "9dc46b0bd7824993b37af8ab850a2f96",
            "1adc4802f5324a848d8e15bb3fad630e",
            "de91b95db84d4b588fac29c0593010d3",
            "1e0e1bf698b840ba85333c189740a5c8",
            "5586c85150e04087a50d2f579c0dcc81",
            "ac093143f8634b7181e6fce7b1a2c6f8",
            "d605b73461d64f1daecf4ce7ca6eed4a",
            "42d6323aebc4491d9f4930dd1236b360",
            "c4e8d583d8244d0dabb5f7dfb28397e4",
            "cdf717357b8048f7a22b7b5fc87f7043",
            "f4a604fd300445e9b9a808870245b0c3",
            "2893df1b1e004818a4f2b2a6ee74780d"
          ]
        },
        "id": "uuOSj6ZQxUXG",
        "outputId": "a8cfd692-1f4e-42ae-e395-fa79590ae4ab"
      },
      "execution_count": null,
      "outputs": [
        {
          "output_type": "display_data",
          "data": {
            "text/plain": [
              "Downloading (…)ain/hyperparams.yaml:   0%|          | 0.00/2.20k [00:00<?, ?B/s]"
            ],
            "application/vnd.jupyter.widget-view+json": {
              "version_major": 2,
              "version_minor": 0,
              "model_id": "fdacd3bc918c43a1bf9805c953545a97"
            }
          },
          "metadata": {}
        },
        {
          "output_type": "display_data",
          "data": {
            "text/plain": [
              "Downloading model.ckpt:   0%|          | 0.00/113M [00:00<?, ?B/s]"
            ],
            "application/vnd.jupyter.widget-view+json": {
              "version_major": 2,
              "version_minor": 0,
              "model_id": "a5e2a97c707a4701abd4a45764570866"
            }
          },
          "metadata": {}
        },
        {
          "output_type": "display_data",
          "data": {
            "text/plain": [
              "Downloading (…)ain/hyperparams.yaml:   0%|          | 0.00/1.16k [00:00<?, ?B/s]"
            ],
            "application/vnd.jupyter.widget-view+json": {
              "version_major": 2,
              "version_minor": 0,
              "model_id": "242062895cc64db19135be572a4a9b73"
            }
          },
          "metadata": {}
        },
        {
          "output_type": "display_data",
          "data": {
            "text/plain": [
              "Downloading generator.ckpt:   0%|          | 0.00/55.8M [00:00<?, ?B/s]"
            ],
            "application/vnd.jupyter.widget-view+json": {
              "version_major": 2,
              "version_minor": 0,
              "model_id": "1adc4802f5324a848d8e15bb3fad630e"
            }
          },
          "metadata": {}
        }
      ]
    },
    {
      "cell_type": "code",
      "source": [
        "# Running The TTS\n",
        "mel_output, mel_length, alignment = tacotron2.encode_text(\"Mary had a little lamb\")"
      ],
      "metadata": {
        "id": "I-Hkuq20yEi6"
      },
      "execution_count": null,
      "outputs": []
    },
    {
      "cell_type": "code",
      "source": [
        "# Running Vocoder (spectrogram-to-waveform)\n",
        "waveforms = hifi_gan.decode_batch(mel_output)"
      ],
      "metadata": {
        "id": "bCskaVV4ySPQ"
      },
      "execution_count": null,
      "outputs": []
    },
    {
      "cell_type": "code",
      "source": [
        "# Save The Waverform\n",
        "torchaudio.save(\"mary.wav\", waveforms.squeeze(1), 16_000)"
      ],
      "metadata": {
        "id": "FSeTeDjtyYnu"
      },
      "execution_count": null,
      "outputs": []
    },
    {
      "cell_type": "code",
      "source": [
        "# Show The Waveform\n",
        "Audio(\"mary.wav\")"
      ],
      "metadata": {
        "colab": {
          "base_uri": "https://localhost:8080/",
          "height": 61
        },
        "id": "BwaL6ikpy3a9",
        "outputId": "c4334a1a-0a68-4e9c-a854-7b380cfb222b"
      },
      "execution_count": null,
      "outputs": [
        {
          "output_type": "execute_result",
          "data": {
            "text/plain": [
              "<IPython.lib.display.Audio object>"
            ],
            "text/html": [
              "\n",
              "                <audio  controls=\"controls\" >\n",
              "                    <source src=\"data:audio/x-wav;base64,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\" type=\"audio/x-wav\" />\n",
              "                    Your browser does not support the audio element.\n",
              "                </audio>\n",
              "              "
            ]
          },
          "metadata": {},
          "execution_count": 9
        }
      ]
    },
    {
      "cell_type": "markdown",
      "source": [
        "# Resources And Notes"
      ],
      "metadata": {
        "id": "orWifQK5z_st"
      }
    },
    {
      "cell_type": "markdown",
      "source": [
        "## SpeechBrain\n",
        "*`SpeechBrain` is an open-source and all-in-one conversational AI toolkit based on PyTorch.*\n",
        "\n",
        "It is designed to make the research and development of speech technology easier. SpeechBrain provides a wide range of tools and resources for a variety of speech processing tasks, including:\n",
        "\n",
        "1. Speech recognition\n",
        "2. Text-to-speech\n",
        "3. Speaker recognition\n",
        "4. Speech enhancement\n",
        "5. Speech separation\n",
        "6. Spoken language understanding\n",
        "7. Language identification\n",
        "8. Emotion recognition\n",
        "9. Voice activity detection\n",
        "10. Sound classification\n",
        "11. Grapheme-to-phoneme\n",
        "\n",
        "### Necessary Links\n",
        "**SpeechBrain**: [`🌐 Official Website`](https://speechbrain.github.io/) | [`🤗 Hugging Face`](https://huggingface.co/speechbrain)"
      ],
      "metadata": {
        "id": "bg4KR-pB0JW3"
      }
    },
    {
      "cell_type": "markdown",
      "source": [
        "## Text-to-speech Models\n",
        "1. [`🤗 Hugging Face Models`](https://huggingface.co/models?pipeline_tag=text-to-speech&sort=trending)"
      ],
      "metadata": {
        "id": "CRq6AMFK2mua"
      }
    },
    {
      "cell_type": "markdown",
      "source": [
        "*In This Notebook...*\n",
        "\n",
        "Used Model: [`Text-to-Speech (TTS) with Tacotron2 trained on LJSpeech`](https://huggingface.co/speechbrain/tts-tacotron2-ljspeech)\n",
        "\n",
        "Used Vocoder: [`Vocoder with HiFIGAN trained on LJSpeech`](https://huggingface.co/speechbrain/tts-hifigan-ljspeech)"
      ],
      "metadata": {
        "id": "NnCm7C-I2-bo"
      }
    }
  ]
}